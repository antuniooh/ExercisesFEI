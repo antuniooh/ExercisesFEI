{
 "cells": [
  {
   "cell_type": "code",
   "execution_count": 41,
   "metadata": {},
   "outputs": [],
   "source": [
    "#Nome: Antonio Gustavo Muniz\n",
    "#RA: 22.119.001-0\n",
    "\n",
    "#Calculo Numerico - Atividade 04"
   ]
  },
  {
   "cell_type": "code",
   "execution_count": 18,
   "metadata": {},
   "outputs": [
    {
     "name": "stdout",
     "output_type": "stream",
     "text": [
      "Resultado do sistema linear\n",
      "[[17.69230769]\n",
      " [35.03846154]\n",
      " [23.79807692]]\n"
     ]
    }
   ],
   "source": [
    "import numpy as np\n",
    "matriz_A=np.matrix([[50,200,160],[90,100,80],[180,250,120]])\n",
    "matriz_B=([[11700],[7000],[14800]])\n",
    "matriz_A_inv=np.linalg.inv(matriz_A)\n",
    "sol=matriz_A_inv*matriz_B\n",
    "print(\"Resultado do sistema linear\")\n",
    "print(sol)\n"
   ]
  },
  {
   "cell_type": "code",
   "execution_count": 23,
   "metadata": {},
   "outputs": [
    {
     "name": "stdout",
     "output_type": "stream",
     "text": [
      "Resultado do sistema linear\n",
      "[[10000.]\n",
      " [12000.]\n",
      " [13000.]]\n"
     ]
    }
   ],
   "source": [
    "import numpy as np\n",
    "\n",
    "matriz_A=np.matrix([[1,1,1],[0.07,0.08,0.09],[0.07,0.08,0.1]])\n",
    "matriz_B=([[35000],[2830],[2960]])\n",
    "matriz_A_inv=np.linalg.inv(matriz_A)\n",
    "sol=matriz_A_inv*matriz_B\n",
    "print(\"Resultado do sistema linear\")\n",
    "print(sol)"
   ]
  },
  {
   "cell_type": "code",
   "execution_count": 56,
   "metadata": {},
   "outputs": [
    {
     "data": {
      "image/png": "[encoded data removed]",
      "text/plain": [
       "<Figure size 432x288 with 1 Axes>"
      ]
     },
     "metadata": {
      "needs_background": "light"
     },
     "output_type": "display_data"
    }
   ],
   "source": [
    "import matplotlib.pyplot as plt\n",
    "import numpy as np\n",
    "\n",
    "x = np.linspace(-5,6,10) # array com 20 pontos igualmente espaçados no intervalo 0 e 1\n",
    "#-2.5 -x = sen(x)\n",
    "y1 = -2.5 + 5*x\n",
    "y2= np.sin(x)\n",
    "# Pode-se incluir diversos gráficos\n",
    "plt.plot(x,y1,x,y2) # gera dois gráficos simultaneamente\n",
    "                                # um com os valores (x,y) e outro com (x,x**3)\n",
    "                                # armazenando o resultado em uma variável\n",
    "plt.grid() \n"
   ]
  },
  {
   "cell_type": "code",
   "execution_count": 21,
   "metadata": {},
   "outputs": [
    {
     "name": "stdout",
     "output_type": "stream",
     "text": [
      "[0.61546817]\n"
     ]
    }
   ],
   "source": [
    "from scipy.optimize import fsolve\n",
    "import math\n",
    "\n",
    "def y(x):\n",
    "  f = x - 0.2*math.sin(x) - 0.5\n",
    "  return f\n",
    "print(\"O valor deu aproximadamente=...\")\n",
    "print(fsolve(y,0.5))"
   ]
  },
  {
   "cell_type": "code",
   "execution_count": 4,
   "metadata": {},
   "outputs": [
    {
     "name": "stdout",
     "output_type": "stream",
     "text": [
      "[[-5 -4 -3 -2 -1  0  1  2  3  4  5]]\n",
      "[[  15.99326205    8.98168436    3.95021293    0.86466472   -0.36787944\n",
      "     0.            1.28171817    1.6109439    -4.08553692  -29.59815003\n",
      "  -112.4131591 ]]\n",
      "\n",
      "\n",
      "xi:  3.5\n",
      "x0:  2.78161804810945\n",
      "f(x0) =  0\n",
      "xi:  4.5\n",
      "x0:  2.78161804810945\n",
      "f(x0) =  0\n"
     ]
    }
   ],
   "source": [
    "from sympy import *\n",
    "import numpy as np\n",
    "x = np.array([i for i in range(-5,6,1)]).reshape((1,11))\n",
    "y=(x+1)**2-np.exp(x);\n",
    "print(x)\n",
    "print(y)\n",
    "print(\"\\n\")\n",
    "\n",
    "x=Symbol('x')\n",
    "def NewtonsMethod(x0):\n",
    "    tolerance=0.000001\n",
    "    d=diff(f(x),x)\n",
    "    while True:\n",
    "        x1 = x0 -(f(x0)/d.doit().subs({x:x0})) \n",
    "        t = abs(x1 -x0)\n",
    "        if t < tolerance:\n",
    "            break\n",
    "        x0 = x1\n",
    "    return x1\n",
    "\n",
    "def f(x):\n",
    "    return x**3 - 3*x**2 + 6*x -15\n",
    "xi =3.5# ponto médio do intervalo\n",
    "xr = NewtonsMethod(xi)\n",
    "print('xi: ', xi)\n",
    "print('x0: ', N(xr))\n",
    "print(\"f(x0) = \", N(xr**3 - 3*xr**2 + 6*xr -15))\n",
    "xi =4.5# ponto médio do intervalo\n",
    "xr = NewtonsMethod(xi)\n",
    "print('xi: ', xi)\n",
    "print('x0: ', N(xr))\n",
    "print(\"f(x0) = \", N(xr**3 - 3*xr**2 + 6*xr -15))"
   ]
  },
  {
   "cell_type": "code",
   "execution_count": null,
   "metadata": {},
   "outputs": [],
   "source": []
  }
 ],
 "metadata": {
  "kernelspec": {
   "display_name": "Python 3",
   "language": "python",
   "name": "python3"
  },
  "language_info": {
   "codemirror_mode": {
    "name": "ipython",
    "version": 3
   },
   "file_extension": ".py",
   "mimetype": "text/x-python",
   "name": "python",
   "nbconvert_exporter": "python",
   "pygments_lexer": "ipython3",
   "version": "3.7.8"
  }
 },
 "nbformat": 4,
 "nbformat_minor": 4
}
