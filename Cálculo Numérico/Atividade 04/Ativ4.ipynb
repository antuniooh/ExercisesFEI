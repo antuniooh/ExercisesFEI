{
 "cells": [
  {
   "cell_type": "markdown",
   "metadata": {},
   "source": [
    "# Exercício 1"
   ]
  },
  {
   "cell_type": "code",
   "execution_count": 1,
   "metadata": {},
   "outputs": [
    {
     "name": "stdout",
     "output_type": "stream",
     "text": [
      "1040000.00\n",
      "Resultado do sistema linear\n",
      "[[17.69230769]\n",
      " [35.03846154]\n",
      " [23.79807692]]\n"
     ]
    }
   ],
   "source": [
    "import numpy as np\n",
    "#cria a matriz A\n",
    "matriz_A=np.matrix([[50,200,160],[90,100,80],[180,250,120]])\n",
    "#cria a matriz B\n",
    "matriz_B=([[11700],[7000],[14800]])\n",
    "#calcula o determinante de A\n",
    "print(\"%.2f\" %np.linalg.det(matriz_A))\n",
    "#cria a matriz inversa de A\n",
    "matriz_A_inv=np.linalg.inv(matriz_A)\n",
    "#Resolve o sistema linear\n",
    "sol=matriz_A_inv*matriz_B\n",
    "print(\"Resultado do sistema linear\")\n",
    "print(sol)"
   ]
  },
  {
   "cell_type": "markdown",
   "metadata": {},
   "source": [
    "# Exercício 2"
   ]
  },
  {
   "cell_type": "code",
   "execution_count": 3,
   "metadata": {},
   "outputs": [
    {
     "data": {
      "text/plain": [
       "{x: 9999.99999999994, y: 12000.0000000001, z: 12999.9999999999}"
      ]
     },
     "execution_count": 3,
     "metadata": {},
     "output_type": "execute_result"
    }
   ],
   "source": [
    "from sympy import Matrix, solve_linear_system\n",
    "from sympy.abc import x, y,z\n",
    "system = Matrix(( (1,1,1,35000), (0.07,0.08,0.09,2830),(0.07,0.08,0.10,2960)))\n",
    "solve_linear_system(system, x, y,z)"
   ]
  },
  {
   "cell_type": "markdown",
   "metadata": {},
   "source": [
    "# Exercício 3"
   ]
  },
  {
   "cell_type": "code",
   "execution_count": 7,
   "metadata": {},
   "outputs": [
    {
     "data": {
      "image/png": "[encoded data removed]",
      "text/plain": [
       "<Figure size 432x288 with 1 Axes>"
      ]
     },
     "metadata": {
      "needs_background": "light"
     },
     "output_type": "display_data"
    }
   ],
   "source": [
    "import matplotlib.pyplot as plt\n",
    "x = np.linspace(-4,4,50) # array com 20 pontos igualmente espaçados no intervalo 0 e 1\n",
    "y1 = np.sin(x)   \n",
    "y2=-2.5+5*x\n",
    "# Pode-se incluir diversos gráficos\n",
    "plt.plot(x,y1,x,y2) # gera dois gráficos simultaneamente\n",
    "                                # um com os valores (x,y) e outro com (x,x**3)\n",
    "                                # armazenando o resultado em uma variável\n",
    "plt.grid()    "
   ]
  },
  {
   "cell_type": "code",
   "execution_count": 8,
   "metadata": {},
   "outputs": [
    {
     "name": "stdout",
     "output_type": "stream",
     "text": [
      "[0.61546817]\n"
     ]
    }
   ],
   "source": [
    "from scipy.optimize import fsolve\n",
    "from math import exp\n",
    "def y(x):\n",
    "  f=x-0.2*np.sin(x)-0.5\n",
    "  return f\n",
    "R=fsolve(y,0.5) \n",
    "print(R)\n"
   ]
  },
  {
   "cell_type": "markdown",
   "metadata": {},
   "source": [
    "# Exercício 4"
   ]
  },
  {
   "cell_type": "code",
   "execution_count": 11,
   "metadata": {},
   "outputs": [
    {
     "name": "stdout",
     "output_type": "stream",
     "text": [
      "[[-5 -4 -3 -2 -1  0  1  2  3  4  5]]\n",
      "[[-245 -151  -87  -47  -25  -15  -11   -7    3   25   65]]\n"
     ]
    }
   ],
   "source": [
    "import numpy as np\n",
    "\n",
    "x = np.array([i for i in range(-5,6,1)]).reshape((1,11))\n",
    "y=x**3-3*x**2+6*x-15  \n",
    "print(x)\n",
    "print(y)"
   ]
  },
  {
   "cell_type": "code",
   "execution_count": 12,
   "metadata": {},
   "outputs": [
    {
     "name": "stdout",
     "output_type": "stream",
     "text": [
      "xi:  2.5\n",
      "x0:  2.78161804810946\n",
      "f(x0) =  1.59872115546023e-13\n"
     ]
    }
   ],
   "source": [
    "from sympy import *\n",
    "x=Symbol('x')\n",
    "def NewtonsMethod(x0):\n",
    "    tolerance=0.0001\n",
    "    d=diff(f(x),x)\n",
    "    while True:\n",
    "        x1 = x0 - (f(x0)/d.doit().subs({x:x0})) \n",
    "        t = abs(x1 - x0)\n",
    "        if t < tolerance:\n",
    "            break\n",
    "        x0 = x1\n",
    "    return x1\n",
    "\n",
    "def f(x):\n",
    "    return x**3-3*x**2+6*x-15 \n",
    "xi = 2.5\n",
    "xr = NewtonsMethod(xi)\n",
    "print('xi: ', xi)\n",
    "print('x0: ', N(xr))\n",
    "print(\"f(x0) = \", N(xr**3-3*xr**2+6*xr-15 ))"
   ]
  }
 ],
 "metadata": {
  "kernelspec": {
   "display_name": "Python 3",
   "language": "python",
   "name": "python3"
  },
  "language_info": {
   "codemirror_mode": {
    "name": "ipython",
    "version": 3
   },
   "file_extension": ".py",
   "mimetype": "text/x-python",
   "name": "python",
   "nbconvert_exporter": "python",
   "pygments_lexer": "ipython3",
   "version": "3.7.0"
  }
 },
 "nbformat": 4,
 "nbformat_minor": 2
}
