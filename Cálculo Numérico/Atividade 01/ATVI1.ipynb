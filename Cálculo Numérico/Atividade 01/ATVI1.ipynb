{
 "cells": [
  {
   "cell_type": "markdown",
   "metadata": {},
   "source": [
    "# Atividade 1"
   ]
  },
  {
   "cell_type": "markdown",
   "metadata": {},
   "source": [
    "# Exercício 1"
   ]
  },
  {
   "cell_type": "code",
   "execution_count": null,
   "metadata": {},
   "outputs": [],
   "source": [
    "import numpy as np\n",
    "import sympy as sp\n",
    "import matplotlib.pyplot as plt\n",
    "\n",
    "%matplotlib inline         \n",
    "\n",
    "x = np.linspace(-4,4,50) \n",
    "y1 = (x+1)**2\n",
    "y2=y1**(1/3)\n",
    "y2=y2*(x-3)**2\n",
    "plt.plot(x,y2)     "
   ]
  },
  {
   "cell_type": "code",
   "execution_count": 5,
   "metadata": {},
   "outputs": [
    {
     "name": "stdout",
     "output_type": "stream",
     "text": [
      "(x - 3)**3*(4.66666666666667*x + 2.0)*((x + 1)**2)**0.333333333333333/(x + 1)\n"
     ]
    }
   ],
   "source": [
    "from sympy import *\n",
    "x=symbols('x')\n",
    "y1 = (x+1)**2\n",
    "y2=y1**(1/3)\n",
    "y2=y2*(x-3)**2\n",
    "eq=y2*(x-3)**2\n",
    "r=simplify(diff(eq,x))\n",
    "print(r)"
   ]
  },
  {
   "cell_type": "code",
   "execution_count": 6,
   "metadata": {},
   "outputs": [
    {
     "name": "stdout",
     "output_type": "stream",
     "text": [
      "(x**2 + 2*x + 1)**0.333333333333333*(45.6296296296296*x**4 - 78.2222222222223*x**3 - 224.0*x**2 + 63.9999999999999*x + 240.0)/(1.0*x**3 + 3.0*x**2 + 3.0*x + 1.0)\n"
     ]
    }
   ],
   "source": [
    "from sympy import *\n",
    "x=symbols('x')\n",
    "y1 = (x+1)**2\n",
    "y2=y1**(1/3)\n",
    "y2=y2*(x-3)**2\n",
    "eq=y2*(x-3)**2\n",
    "r=simplify(diff(eq,x,3))\n",
    "print(r)"
   ]
  },
  {
   "cell_type": "code",
   "execution_count": 9,
   "metadata": {},
   "outputs": [
    {
     "data": {
      "text/latex": [
       "$\\displaystyle \\frac{3 \\left(x - 3\\right)^{3} \\left(x + 1\\right)^{\\frac{2}{3}}}{11} + \\frac{3 \\left(x - 3\\right)^{2} \\left(x + 1\\right)^{\\frac{2}{3}}}{11} - \\frac{72 \\left(x - 3\\right) \\left(x + 1\\right)^{\\frac{2}{3}}}{55} + \\frac{432 \\left(x + 1\\right)^{\\frac{2}{3}}}{55}$"
      ],
      "text/plain": [
       "3*(x - 3)**3*(x + 1)**(2/3)/11 + 3*(x - 3)**2*(x + 1)**(2/3)/11 - 72*(x - 3)*(x + 1)**(2/3)/55 + 432*(x + 1)**(2/3)/55"
      ]
     },
     "execution_count": 9,
     "metadata": {},
     "output_type": "execute_result"
    }
   ],
   "source": [
    "from sympy import*\n",
    "import sympy as sp\n",
    "x,y=symbols('x y')\n",
    "y = sp.cbrt(x+1)**2*(x-3)**2\n",
    "integrate(y,x)"
   ]
  },
  {
   "cell_type": "code",
   "execution_count": 12,
   "metadata": {},
   "outputs": [
    {
     "data": {
      "text/latex": [
       "$\\displaystyle \\frac{504 \\cdot 3^{\\frac{2}{3}}}{55}$"
      ],
      "text/plain": [
       "504*3**(2/3)/55"
      ]
     },
     "execution_count": 12,
     "metadata": {},
     "output_type": "execute_result"
    }
   ],
   "source": [
    "from sympy import*\n",
    "import sympy as sp\n",
    "x,y=symbols('x y')\n",
    "y = sp.cbrt(x+1)**2*(x-3)**2\n",
    "integrate(y,(x,-1,2))"
   ]
  },
  {
   "cell_type": "markdown",
   "metadata": {},
   "source": [
    "# Exercício 2"
   ]
  },
  {
   "cell_type": "code",
   "execution_count": 13,
   "metadata": {},
   "outputs": [
    {
     "name": "stdout",
     "output_type": "stream",
     "text": [
      "resultado da função para x=2.2 é -0.9\n"
     ]
    }
   ],
   "source": [
    "from sympy import*\n",
    "def calcula_f(x):\n",
    "    return (x**2-2*x)/cos(x)\n",
    "\n",
    "x=sqrt(5)\n",
    "y=calcula_f(x)\n",
    "print(\"resultado da função para x=%.1f é %.1f\" %(x,y))"
   ]
  },
  {
   "cell_type": "code",
   "execution_count": 14,
   "metadata": {},
   "outputs": [
    {
     "name": "stdout",
     "output_type": "stream",
     "text": [
      "-69.1\n"
     ]
    }
   ],
   "source": [
    "#definir os símbolos usados\n",
    "x=symbols('x')\n",
    "#definir a função\n",
    "expr=(x**2-2*x)/cos(x)\n",
    "#calcular o limite\n",
    "r=limit(expr,x,9)\n",
    "print(\"%.1f\" %r)"
   ]
  },
  {
   "cell_type": "code",
   "execution_count": 17,
   "metadata": {},
   "outputs": [
    {
     "name": "stdout",
     "output_type": "stream",
     "text": [
      "(x - 3)**3*(4.66666666666667*x + 2.0)*((x + 1)**2)**0.333333333333333/(x + 1)\n"
     ]
    }
   ],
   "source": [
    "from sympy import *\n",
    "x=symbols('x')\n",
    "expr=(x**2-2*x)/cos(x)\n",
    "r=simplify(diff(eq,x))\n",
    "print(r)"
   ]
  },
  {
   "cell_type": "markdown",
   "metadata": {},
   "source": [
    "# Exercício 3"
   ]
  },
  {
   "cell_type": "code",
   "execution_count": 18,
   "metadata": {},
   "outputs": [
    {
     "name": "stdout",
     "output_type": "stream",
     "text": [
      "A=\n",
      " [[1 0 1]\n",
      " [1 2 3]\n",
      " [1 2 4]]\n",
      "B=\n",
      " [[3 1 4]\n",
      " [1 2 1]\n",
      " [3 1 1]]\n"
     ]
    }
   ],
   "source": [
    "import numpy as np\n",
    "\n",
    "A = np.array([[1,0,1],[1,2,3], [1,2,4]])\n",
    "print('A=\\n',A)\n",
    "B = np.array([[3,1,4],[1,2,1], [3,1,1]])\n",
    "print('B=\\n',B)"
   ]
  },
  {
   "cell_type": "code",
   "execution_count": 19,
   "metadata": {},
   "outputs": [
    {
     "name": "stdout",
     "output_type": "stream",
     "text": [
      "2.0\n"
     ]
    }
   ],
   "source": [
    "determ = np.linalg.det( A )\n",
    "print(determ)"
   ]
  },
  {
   "cell_type": "code",
   "execution_count": 20,
   "metadata": {},
   "outputs": [
    {
     "name": "stdout",
     "output_type": "stream",
     "text": [
      "[[-0.06666667 -0.2         0.46666667]\n",
      " [-0.13333333  0.6        -0.06666667]\n",
      " [ 0.33333333 -0.         -0.33333333]]\n"
     ]
    }
   ],
   "source": [
    "inv = np.linalg.inv( B )\n",
    "print(inv)"
   ]
  },
  {
   "cell_type": "code",
   "execution_count": 21,
   "metadata": {},
   "outputs": [
    {
     "name": "stdout",
     "output_type": "stream",
     "text": [
      "\n",
      "Obtendo a transposta\n",
      "[[3 1 3]\n",
      " [1 2 1]\n",
      " [4 1 1]]\n",
      "(3, 3)\n"
     ]
    }
   ],
   "source": [
    "print('\\nObtendo a transposta')\n",
    "b_transposta = B.T\n",
    "print(b_transposta)\n",
    "print(b_transposta.shape)"
   ]
  },
  {
   "cell_type": "code",
   "execution_count": 22,
   "metadata": {},
   "outputs": [
    {
     "name": "stdout",
     "output_type": "stream",
     "text": [
      "D=\n",
      " [[ 6  2  5]\n",
      " [14  8  9]\n",
      " [17  9 10]]\n"
     ]
    }
   ],
   "source": [
    "D=np.dot(A,B)\n",
    "print('D=\\n',D)"
   ]
  },
  {
   "cell_type": "code",
   "execution_count": 24,
   "metadata": {},
   "outputs": [
    {
     "name": "stdout",
     "output_type": "stream",
     "text": [
      "[[1. 1. 1.]\n",
      " [2. 2. 2.]\n",
      " [3. 3. 3.]\n",
      " [4. 4. 4.]\n",
      " [5. 5. 5.]\n",
      " [6. 6. 6.]]\n"
     ]
    }
   ],
   "source": [
    "A = np.zeros((6,3))\n",
    "A[:] = np.array([1, 2, 3, 4, 5, 6]).reshape(6,1)\n",
    "\n",
    "print(A)"
   ]
  },
  {
   "cell_type": "code",
   "execution_count": 23,
   "metadata": {},
   "outputs": [
    {
     "name": "stdout",
     "output_type": "stream",
     "text": [
      "[[-11  -4 -15]\n",
      " [ -3  -6  -1]\n",
      " [-11  -2   0]]\n"
     ]
    }
   ],
   "source": [
    "E=A -4*B\n",
    "print(E)"
   ]
  },
  {
   "cell_type": "markdown",
   "metadata": {},
   "source": [
    "# Exercício 4"
   ]
  },
  {
   "cell_type": "code",
   "execution_count": 27,
   "metadata": {},
   "outputs": [
    {
     "name": "stdout",
     "output_type": "stream",
     "text": [
      "[[1. 1. 1.]\n",
      " [2. 2. 2.]\n",
      " [3. 3. 3.]\n",
      " [4. 4. 4.]\n",
      " [5. 5. 5.]\n",
      " [6. 6. 6.]]\n"
     ]
    }
   ],
   "source": [
    "A = np.zeros((6,3))\n",
    "A[:] = np.array([1, 2, 3, 4, 5, 6]).reshape(6,1)\n",
    "\n",
    "print(A)"
   ]
  },
  {
   "cell_type": "markdown",
   "metadata": {},
   "source": [
    "# Exercícios 5"
   ]
  },
  {
   "cell_type": "code",
   "execution_count": 25,
   "metadata": {},
   "outputs": [
    {
     "name": "stdout",
     "output_type": "stream",
     "text": [
      "Matriz randomica:\n",
      " [[0.82323119 0.23395624 0.77237082 0.6655305  0.96007817 0.82718184\n",
      "  0.77811834 0.22913834 0.00590317 0.98067526]\n",
      " [0.78827609 0.55919761 0.77699459 0.00399249 0.70270144 0.37931889\n",
      "  0.57798615 0.35216466 0.73125896 0.76386967]\n",
      " [0.39707287 0.67239291 0.41226092 0.25286083 0.14391485 0.63482054\n",
      "  0.19073321 0.86644558 0.38365831 0.9414415 ]\n",
      " [0.66622475 0.91689393 0.25014984 0.34568902 0.23469065 0.29655785\n",
      "  0.49887602 0.51721058 0.42956413 0.76922574]\n",
      " [0.58878581 0.16271538 0.84575684 0.14260364 0.75616608 0.29430905\n",
      "  0.47828265 0.00473296 0.95961288 0.20582687]\n",
      " [0.02384413 0.58411393 0.96295881 0.8938885  0.03675547 0.4973911\n",
      "  0.75296106 0.47016702 0.42154517 0.44462608]\n",
      " [0.21077395 0.8535817  0.64139343 0.8780894  0.0051108  0.14980847\n",
      "  0.30671749 0.89568237 0.94984812 0.36603571]\n",
      " [0.60841666 0.15856933 0.03493206 0.18187134 0.3576653  0.47259209\n",
      "  0.915192   0.24881008 0.5224409  0.151297  ]\n",
      " [0.09743312 0.05665992 0.21196221 0.52643957 0.6910488  0.95746418\n",
      "  0.94953368 0.87847339 0.13789857 0.97162828]\n",
      " [0.54813066 0.8747692  0.1503352  0.61883052 0.34221382 0.99622067\n",
      "  0.1475979  0.7600054  0.60566085 0.85652023]]\n",
      "As somas das colunas é:\n",
      " [4.75218923 5.07285016 5.05911471 4.5097958  4.23034539 5.50566467\n",
      " 5.59599849 5.22283037 5.14739106 6.45114633]\n",
      "A coluna com maior some é a  9\n"
     ]
    }
   ],
   "source": [
    "X = np.random.uniform(0,1,100).reshape(10,10)\n",
    "print('Matriz randomica:\\n',X)\n",
    "\n",
    "soma_colunas = np.sum(X,axis=0)\n",
    "print('As somas das colunas é:\\n',soma_colunas)\n",
    "\n",
    "print('A coluna com maior some é a ',np.argmax(soma_colunas))"
   ]
  }
 ],
 "metadata": {
  "kernelspec": {
   "display_name": "Python 3",
   "language": "python",
   "name": "python3"
  },
  "language_info": {
   "codemirror_mode": {
    "name": "ipython",
    "version": 3
   },
   "file_extension": ".py",
   "mimetype": "text/x-python",
   "name": "python",
   "nbconvert_exporter": "python",
   "pygments_lexer": "ipython3",
   "version": "3.7.0"
  }
 },
 "nbformat": 4,
 "nbformat_minor": 2
}
