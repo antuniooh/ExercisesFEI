{
 "cells": [
  {
   "cell_type": "code",
   "execution_count": 4,
   "metadata": {},
   "outputs": [
    {
     "name": "stderr",
     "output_type": "stream",
     "text": [
      "/srv/conda/envs/notebook/lib/python3.7/site-packages/ipykernel_launcher.py:9: RuntimeWarning: invalid value encountered in power\n",
      "  if __name__ == '__main__':\n"
     ]
    },
    {
     "data": {
      "text/plain": [
       "[<matplotlib.lines.Line2D at 0x7fc3d13c1bd0>]"
      ]
     },
     "execution_count": 4,
     "metadata": {},
     "output_type": "execute_result"
    },
    {
     "data": {
      "image/png": "[encoded data removed]",
      "text/plain": [
       "<Figure size 432x288 with 1 Axes>"
      ]
     },
     "metadata": {
      "needs_background": "light"
     },
     "output_type": "display_data"
    }
   ],
   "source": [
    "#1- f(x)=(x+1)2/3(x-3)2 com x variando de -4 até 4 com 50 pontos.\n",
    "\n",
    "import numpy as np\n",
    "import matplotlib.pyplot as plt\n",
    "\n",
    "%matplotlib inline\n",
    "\n",
    "x = np.linspace(-4,4,50)\n",
    "y = (((x+1)**(2/3)) * ((x-3)**2))\n",
    "plt.plot(x, y)"
   ]
  },
  {
   "cell_type": "code",
   "execution_count": 17,
   "metadata": {},
   "outputs": [
    {
     "data": {
      "text/latex": [
       "$\\displaystyle \\frac{2 \\left(x - 3\\right)^{2}}{3 \\sqrt[3]{x + 1}} + \\left(x + 1\\right)^{\\frac{2}{3}} \\left(2 x - 6\\right)$"
      ],
      "text/plain": [
       "2*(x - 3)**2/(3*(x + 1)**(1/3)) + (x + 1)**(2/3)*(2*x - 6)"
      ]
     },
     "execution_count": 17,
     "metadata": {},
     "output_type": "execute_result"
    }
   ],
   "source": [
    "from sympy import *\n",
    "x=symbols('x')\n",
    "eq= (cbrt((x+1))**2) * ((x-3)**2)\n",
    "diff(eq, x)"
   ]
  },
  {
   "cell_type": "code",
   "execution_count": 24,
   "metadata": {},
   "outputs": [
    {
     "data": {
      "text/latex": [
       "$\\displaystyle \\frac{4 \\left(\\frac{2 \\left(x - 3\\right)^{2}}{27 \\left(x + 1\\right)^{2}} - \\frac{x - 3}{3 \\left(x + 1\\right)} + 1\\right)}{\\sqrt[3]{x + 1}}$"
      ],
      "text/plain": [
       "4*(2*(x - 3)**2/(27*(x + 1)**2) - (x - 3)/(3*(x + 1)) + 1)/(x + 1)**(1/3)"
      ]
     },
     "execution_count": 24,
     "metadata": {},
     "output_type": "execute_result"
    }
   ],
   "source": [
    "from sympy import *\n",
    "x=symbols('x')\n",
    "eq= (cbrt((x+1))**2) * ((x-3)**2)\n",
    "diff(eq, x, 3)"
   ]
  },
  {
   "cell_type": "code",
   "execution_count": 25,
   "metadata": {},
   "outputs": [
    {
     "data": {
      "text/latex": [
       "$\\displaystyle \\frac{3 \\left(x - 3\\right)^{3} \\left(x + 1\\right)^{\\frac{2}{3}}}{11} + \\frac{3 \\left(x - 3\\right)^{2} \\left(x + 1\\right)^{\\frac{2}{3}}}{11} - \\frac{72 \\left(x - 3\\right) \\left(x + 1\\right)^{\\frac{2}{3}}}{55} + \\frac{432 \\left(x + 1\\right)^{\\frac{2}{3}}}{55}$"
      ],
      "text/plain": [
       "3*(x - 3)**3*(x + 1)**(2/3)/11 + 3*(x - 3)**2*(x + 1)**(2/3)/11 - 72*(x - 3)*(x + 1)**(2/3)/55 + 432*(x + 1)**(2/3)/55"
      ]
     },
     "execution_count": 25,
     "metadata": {},
     "output_type": "execute_result"
    }
   ],
   "source": [
    "from sympy import *\n",
    "x,y=symbols('x y')\n",
    "y= (cbrt((x+1))**2) * ((x-3)**2)\n",
    "integrate(y,x)"
   ]
  },
  {
   "cell_type": "code",
   "execution_count": 23,
   "metadata": {},
   "outputs": [
    {
     "data": {
      "text/latex": [
       "$\\displaystyle \\frac{504 \\cdot 3^{\\frac{2}{3}}}{55}$"
      ],
      "text/plain": [
       "504*3**(2/3)/55"
      ]
     },
     "execution_count": 23,
     "metadata": {},
     "output_type": "execute_result"
    }
   ],
   "source": [
    "from sympy import *\n",
    "x,y=symbols('x y')\n",
    "y= (cbrt((x+1))**2) * ((x-3)**2)\n",
    "integrate(y,(x, -1, 2))"
   ]
  },
  {
   "cell_type": "code",
   "execution_count": 13,
   "metadata": {},
   "outputs": [
    {
     "name": "stdout",
     "output_type": "stream",
     "text": [
      "Resultado:  -0.8551550945022779\n"
     ]
    }
   ],
   "source": [
    "import numpy as np\n",
    "\n",
    "def calcula(x):\n",
    "    return ((x**2 - 2*x)/(np.cos(x))) \n",
    "print(\"Resultado: \", calcula(np.sqrt(5)))"
   ]
  },
  {
   "cell_type": "code",
   "execution_count": 23,
   "metadata": {},
   "outputs": [
    {
     "name": "stdout",
     "output_type": "stream",
     "text": [
      "63/cos(9)\n"
     ]
    }
   ],
   "source": [
    "from sympy import*\n",
    "x=symbols('x')\n",
    "expr=((x**2 - 2*x)/(cos(x)))\n",
    "r=limit(expr,x,9)\n",
    "print(r)"
   ]
  },
  {
   "cell_type": "code",
   "execution_count": 14,
   "metadata": {},
   "outputs": [
    {
     "data": {
      "text/latex": [
       "$\\displaystyle \\frac{2 x - 2}{\\cos{\\left(x \\right)}} + \\frac{\\left(x^{2} - 2 x\\right) \\sin{\\left(x \\right)}}{\\cos^{2}{\\left(x \\right)}}$"
      ],
      "text/plain": [
       "(2*x - 2)/cos(x) + (x**2 - 2*x)*sin(x)/cos(x)**2"
      ]
     },
     "execution_count": 14,
     "metadata": {},
     "output_type": "execute_result"
    }
   ],
   "source": [
    "from sympy import *\n",
    "x=symbols('x')\n",
    "eq=(((x**2) - (2*x))/(cos(x)))\n",
    "diff(eq, x)"
   ]
  },
  {
   "cell_type": "code",
   "execution_count": 37,
   "metadata": {},
   "outputs": [
    {
     "name": "stdout",
     "output_type": "stream",
     "text": [
      "A=\n",
      " [[1 0 1]\n",
      " [1 2 3]\n",
      " [1 2 4]]\n",
      "B=\n",
      " [[3 1 4]\n",
      " [1 2 1]\n",
      " [3 1 1]]\n",
      "2.0\n",
      "[[-0.06666667 -0.2         0.46666667]\n",
      " [-0.13333333  0.6        -0.06666667]\n",
      " [ 0.33333333 -0.         -0.33333333]]\n",
      "[[1 1 1]\n",
      " [0 2 2]\n",
      " [1 3 4]]\n",
      "(3, 3)\n",
      "M=\n",
      " [[ 6  2  5]\n",
      " [14  8  9]\n",
      " [17  9 10]]\n",
      "Sub=\n",
      " [[-11  -4 -15]\n",
      " [ -3  -6  -1]\n",
      " [-11  -2   0]]\n"
     ]
    }
   ],
   "source": [
    "import numpy as np\n",
    "\n",
    "A=np.array([[1,0,1],[1,2,3],[1,2,4]])\n",
    "print(\"A=\\n\", A)\n",
    "B=np.array([[3,1,4],[1,2,1],[3,1,1]])\n",
    "print(\"B=\\n\", B)\n",
    "\n",
    "detA = np.linalg.det(A)\n",
    "print(detA, \"\\n\")\n",
    "\n",
    "invB = np.linalg.inv(B)\n",
    "print(invB, \"\\n\")\n",
    "\n",
    "aTrans = A.T\n",
    "print(aTrans,\"\\n\")\n",
    "print(aTrans.shape, \"\\n\")\n",
    "\n",
    "M=np.dot(A, B)\n",
    "print(\"M=\\n\", M,)\n",
    "\n",
    "SUB = A - (4*B)\n",
    "print(\"Sub=\\n\", SUB)\n",
    "\n"
   ]
  },
  {
   "cell_type": "code",
   "execution_count": 44,
   "metadata": {},
   "outputs": [
    {
     "name": "stdout",
     "output_type": "stream",
     "text": [
      "M =  [[1. 1. 1.]\n",
      " [2. 2. 2.]\n",
      " [3. 3. 3.]\n",
      " [4. 4. 4.]\n",
      " [5. 5. 5.]\n",
      " [6. 6. 6.]]\n"
     ]
    }
   ],
   "source": [
    "import numpy as np\n",
    "\n",
    "matrix = np.zeros((6,3))\n",
    "array = np.arange(1,7).reshape(6,1)\n",
    "\n",
    "print(\"M = \", (matrix + array))"
   ]
  },
  {
   "cell_type": "code",
   "execution_count": 51,
   "metadata": {},
   "outputs": [
    {
     "name": "stdout",
     "output_type": "stream",
     "text": [
      "M =  [[1 0 1 0 1 1 1 0 1 0]\n",
      " [1 1 1 0 1 1 0 1 0 1]\n",
      " [0 0 1 0 0 1 0 1 1 1]\n",
      " [0 1 1 1 1 1 1 0 0 0]\n",
      " [1 0 1 1 1 0 1 0 0 1]\n",
      " [0 0 0 0 1 1 0 1 0 0]\n",
      " [1 1 1 1 1 0 0 0 1 1]\n",
      " [0 1 1 0 1 1 1 0 1 1]\n",
      " [0 1 1 1 1 1 0 1 0 0]\n",
      " [0 0 0 0 1 0 0 1 0 1]]\n",
      "Soma dos valores das colunas:  [4 5 8 4 9 7 4 5 4 6]\n",
      "Maior soma das colunas:  9 , coluna:  4\n"
     ]
    }
   ],
   "source": [
    "import numpy as np\n",
    "\n",
    "M = np.random.randint(low=0, high=2,size=(10,10))\n",
    "print(\"M = \", M)\n",
    "\n",
    "sumM= np.sum(M, axis=0)\n",
    "print('Soma dos valores das colunas: ',sumM)\n",
    "print('Maior soma das colunas: ', np.max(sumM), ', coluna: ', np.argmax(sumM, axis=0))"
   ]
  },
  {
   "cell_type": "code",
   "execution_count": null,
   "metadata": {},
   "outputs": [],
   "source": []
  }
 ],
 "metadata": {
  "kernelspec": {
   "display_name": "Python 3",
   "language": "python",
   "name": "python3"
  },
  "language_info": {
   "codemirror_mode": {
    "name": "ipython",
    "version": 3
   },
   "file_extension": ".py",
   "mimetype": "text/x-python",
   "name": "python",
   "nbconvert_exporter": "python",
   "pygments_lexer": "ipython3",
   "version": "3.7.8"
  }
 },
 "nbformat": 4,
 "nbformat_minor": 4
}
