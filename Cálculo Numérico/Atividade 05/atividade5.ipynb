{
 "cells": [
  {
   "cell_type": "code",
   "execution_count": null,
   "metadata": {},
   "outputs": [],
   "source": [
    "#Antonio Gustavo Muniz da Silva\n",
    "#22.119.001 - 0"
   ]
  },
  {
   "cell_type": "code",
   "execution_count": 30,
   "metadata": {},
   "outputs": [
    {
     "name": "stdout",
     "output_type": "stream",
     "text": [
      "y = 1.163000000000001x +1.4149999999999978\n"
     ]
    },
    {
     "data": {
      "image/png": "[encoded data removed]",
      "text/plain": [
       "<Figure size 432x288 with 1 Axes>"
      ]
     },
     "metadata": {
      "needs_background": "light"
     },
     "output_type": "display_data"
    },
    {
     "name": "stdout",
     "output_type": "stream",
     "text": [
      "RS: 0.021630000000000107\n"
     ]
    }
   ],
   "source": [
    "import numpy as np\n",
    "import matplotlib.pyplot as plt\n",
    "\n",
    "# define os dados\n",
    "x = np.array([1,2,3,4])\n",
    "y = np.array([2.50,3.83,4.96,6.00])\n",
    "\n",
    "n = np.size(x)\n",
    "Sx= np.sum(x)\n",
    "Sy=np.sum(y)\n",
    "Sxy=np.sum(x*y)\n",
    "Sxx=np.sum(x*x)\n",
    "a1=(n*Sxy-Sx*Sy)/(n*Sxx-Sx**2) #Calcula o coeficiente a1 da reta\n",
    "a0=(Sxx*Sy-Sxy*Sx)/(n*Sxx-Sx**2) #Calcula o coeficiente a0 da reta\n",
    "\n",
    "# mostra os dados\n",
    "plt.scatter(x, y, color = \"b\", marker = \"o\", s = 50)\n",
    "# prediz os valores\n",
    "y_pred = a0 + a1*x\n",
    "print(\"y = \" + str(a1) + \"x +\" +  str(a0))\n",
    "# mostra a reta de regressão\n",
    "plt.plot(x, y_pred, color = \"r\")\n",
    "plt.xlabel('x', fontsize = 15)\n",
    "plt.ylabel('y', fontsize = 15)\n",
    "plt.show(True) \n",
    "\n",
    "#funcao que calcula o Residuo\n",
    "def Residuo(x,y,b0,b1):\n",
    "    n = len(y)\n",
    "    RS = 0\n",
    "    for i in range(0,n):\n",
    "        y_pred=a0+a1*x[i]\n",
    "        RS = RS + (y[i]-y_pred)**2\n",
    "    return RS\n",
    "print('RS:', Residuo(x,y,a0,a1))"
   ]
  },
  {
   "cell_type": "code",
   "execution_count": 32,
   "metadata": {},
   "outputs": [
    {
     "name": "stdout",
     "output_type": "stream",
     "text": [
      "y = [2.80817121]x +-0.5922178988326898\n",
      "\n",
      "Valor da corrente para V = 3.5\n",
      "[9.23638132]\n",
      "\n",
      "Valor da tensão para i = 15\n",
      "{x: 5.55244561452128}\n",
      "\n",
      "Resíduo:\n"
     ]
    },
    {
     "data": {
      "text/plain": [
       "0.2921400778210114"
      ]
     },
     "execution_count": 32,
     "metadata": {},
     "output_type": "execute_result"
    },
    {
     "data": {
      "image/png": "[encoded data removed]",
      "text/plain": [
       "<Figure size 432x288 with 1 Axes>"
      ]
     },
     "metadata": {
      "needs_background": "light"
     },
     "output_type": "display_data"
    }
   ],
   "source": [
    "import sympy as sy\n",
    "import numpy as np\n",
    "import matplotlib.pyplot as plt\n",
    "from sklearn.linear_model import LinearRegression\n",
    "\n",
    "V = [2,3,4,5,7,10]\n",
    "V = np.array(V)\n",
    "I = [5.2,7.8,10.7,13,19.3,27.5]\n",
    "V = V.reshape(-1, 1)\n",
    "modelo = LinearRegression().fit(V, I)\n",
    "print(\"y = \" + str(modelo.coef_) + \"x +\" +  str(modelo.intercept_))\n",
    "plt.scatter(V, I)\n",
    "plt.plot(V, modelo.predict(V), color = 'red')\n",
    "print()\n",
    "\n",
    "# valor de i para V=3.5\n",
    "yr=modelo.intercept_ + modelo.coef_ * (3.5)\n",
    "print(\"Valor da corrente para V = 3.5\")\n",
    "print(yr)\n",
    "print()\n",
    "\n",
    "#valor de V para i =15\n",
    "x=sy.Symbol('x')\n",
    "y=modelo.intercept_ + modelo.coef_ * x -(15.00)\n",
    "print(\"Valor da tensão para i = 15\")\n",
    "print(sy.solve(y))\n",
    "print()\n",
    "\n",
    "print(\"Resíduo:\")\n",
    "modelo._residues"
   ]
  },
  {
   "cell_type": "code",
   "execution_count": null,
   "metadata": {},
   "outputs": [],
   "source": []
  }
 ],
 "metadata": {
  "kernelspec": {
   "display_name": "Python 3",
   "language": "python",
   "name": "python3"
  },
  "language_info": {
   "codemirror_mode": {
    "name": "ipython",
    "version": 3
   },
   "file_extension": ".py",
   "mimetype": "text/x-python",
   "name": "python",
   "nbconvert_exporter": "python",
   "pygments_lexer": "ipython3",
   "version": "3.7.8"
  }
 },
 "nbformat": 4,
 "nbformat_minor": 4
}
