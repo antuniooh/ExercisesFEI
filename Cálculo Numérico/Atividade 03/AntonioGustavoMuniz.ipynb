{
 "cells": [
  {
   "cell_type": "code",
   "execution_count": null,
   "metadata": {},
   "outputs": [],
   "source": [
    "#ANTONIO GUSTAVO MUNIZ DA SILVA\n",
    "#22.119.001 - 0"
   ]
  },
  {
   "cell_type": "code",
   "execution_count": 11,
   "metadata": {},
   "outputs": [
    {
     "name": "stdout",
     "output_type": "stream",
     "text": [
      "[[-4 -3 -2 -1  0  1  2  3  4]]\n",
      "[[ 5.34635638e+00  1.00075034e-02 -2.41614684e+00 -2.45969769e+00\n",
      "  -1.00000000e+00  1.54030231e+00  5.58385316e+00  1.20100075e+01\n",
      "   2.13463564e+01]]\n"
     ]
    }
   ],
   "source": [
    "import numpy as np\n",
    "x = np.array([i for i in range(-4,5,1)]).reshape((1,9))\n",
    "y=np.cos(x) + x**2 + 2*x - 2\n",
    "print(x)\n",
    "print(y)\n"
   ]
  },
  {
   "cell_type": "code",
   "execution_count": 4,
   "metadata": {},
   "outputs": [
    {
     "name": "stdout",
     "output_type": "stream",
     "text": [
      "[-1.61854355]\n",
      "[1.29203729]\n",
      "[[-4 -3 -2 -1  0  1  2  3  4]]\n",
      "[[ -9.2431975   -4.14112001  -0.90929743   1.15852902   2.\n",
      "    0.84147098  -3.09070257  -9.85887999 -18.7568025 ]]\n",
      "xi:  -2.5\n",
      "x0:  -1.61854355405153\n",
      "f(x0) =  2.22044604925031e-16\n",
      "\n",
      "\n",
      "xi:  0.5\n",
      "x0:  1.29203728955128\n",
      "f(x0) =  -1.85927140350373e-9\n"
     ]
    },
    {
     "data": {
      "image/png": "[encoded data removed]",
      "text/plain": [
       "<Figure size 432x288 with 1 Axes>"
      ]
     },
     "metadata": {
      "needs_background": "light"
     },
     "output_type": "display_data"
    }
   ],
   "source": [
    "import matplotlib.pyplot as plt\n",
    "import numpy as np\n",
    "%matplotlib inline\n",
    "from scipy.optimize import fsolve\n",
    "from math import exp\n",
    "from sympy import *\n",
    "\n",
    "x = np.linspace(-4,4,20)\n",
    "y1 = np.sin(x)\n",
    "y2= x**2 + x - 2\n",
    "\n",
    "line_1 = plt.plot(x,y1)\n",
    "line_2=plt.plot(x,y2)\n",
    "\n",
    "plt.setp(line_1,color='blue',linewidth = 2)\n",
    "plt.setp(line_2,color='red',linewidth = 2)\n",
    "\n",
    "plt.grid(True)\n",
    "\n",
    "def y(x):\n",
    "    f= np.sin(x) + (-x**2) - x + 2\n",
    "    return f\n",
    "R=fsolve(y,-1.5)\n",
    "print(R)\n",
    "R=fsolve(y,1.2)\n",
    "print(R)\n",
    "\n",
    "xValue = np.array([i for i in range(-4,5,1)]).reshape((1,9))\n",
    "yValue=np.sin(xValue) - xValue**2 - xValue + 2\n",
    "print(xValue)\n",
    "print(yValue)\n",
    "\n",
    "x=Symbol('x')\n",
    "def NewtonsMethod(x0):\n",
    "    d=diff(f(x),x)\n",
    "    for i in range(0,5):\n",
    "        x1 = x0 - (f(x0)/d.doit().subs({x:x0}))\n",
    "        x0 = x1\n",
    "    return x1\n",
    "def f(x):\n",
    "    return sin(x) - x**2 - x + 2\n",
    "\n",
    "xi = -2.5\n",
    "xr = NewtonsMethod(xi)\n",
    "print('xi: ', xi)\n",
    "print('x0: ', N(xr))\n",
    "print(\"f(x0) = \", N(sin(xr) -xr**2 - xr + 2))\n",
    "\n",
    "print(\"\\n\")\n",
    "xi = 0.5\n",
    "xr = NewtonsMethod(xi)\n",
    "print('xi: ', xi)\n",
    "print('x0: ', N(xr))\n",
    "print(\"f(x0) = \", N(sin(xr) -xr**2 - xr + 2))"
   ]
  },
  {
   "cell_type": "code",
   "execution_count": 8,
   "metadata": {},
   "outputs": [
    {
     "name": "stdout",
     "output_type": "stream",
     "text": [
      "Raiz da equação x^5 - 3.5x^4 + 2.75x^3 + 2.125x^2 -3.975x + 1.25\n",
      "[ 2.03318503+0.j         -1.00520321+0.j          1.00504726+0.56030721j\n",
      "  1.00504726-0.56030721j  0.46192367+0.j        ]\n"
     ]
    },
    {
     "data": {
      "image/png": "[encoded data removed]",
      "text/plain": [
       "<Figure size 432x288 with 1 Axes>"
      ]
     },
     "metadata": {
      "needs_background": "light"
     },
     "output_type": "display_data"
    }
   ],
   "source": [
    "import matplotlib.pyplot as plt\n",
    "import numpy as np\n",
    "from numpy import roots\n",
    "%matplotlib inline\n",
    "\n",
    "x = np.linspace(-2,4,20)\n",
    "y1 = (x**5 - 3.5*(x**4) + 2.75*(x**3) + 2.125*(x**2) - (3.975*x) + 1.25 )\n",
    "line_1 = plt.plot(x,y1)\n",
    "plt.setp(line_1,color='red',linewidth = 2, linestyle = '--')\n",
    "plt.grid(True)\n",
    "\n",
    "coeficientes=[1,-3.5,2.75, 2.125, -3.975, 1.25]\n",
    "raiz=roots(coeficientes)\n",
    "print(\"Raiz da equação x^5 - 3.5x^4 + 2.75x^3 + 2.125x^2 -3.975x + 1.25\")\n",
    "print(raiz)"
   ]
  },
  {
   "cell_type": "code",
   "execution_count": null,
   "metadata": {},
   "outputs": [],
   "source": []
  },
  {
   "cell_type": "code",
   "execution_count": null,
   "metadata": {},
   "outputs": [],
   "source": []
  },
  {
   "cell_type": "code",
   "execution_count": null,
   "metadata": {},
   "outputs": [],
   "source": []
  }
 ],
 "metadata": {
  "kernelspec": {
   "display_name": "Python 3",
   "language": "python",
   "name": "python3"
  },
  "language_info": {
   "codemirror_mode": {
    "name": "ipython",
    "version": 3
   },
   "file_extension": ".py",
   "mimetype": "text/x-python",
   "name": "python",
   "nbconvert_exporter": "python",
   "pygments_lexer": "ipython3",
   "version": "3.7.6"
  }
 },
 "nbformat": 4,
 "nbformat_minor": 4
}
