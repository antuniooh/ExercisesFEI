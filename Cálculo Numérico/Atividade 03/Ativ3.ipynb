{
 "cells": [
  {
   "cell_type": "markdown",
   "metadata": {},
   "source": [
    "## Exercício 1"
   ]
  },
  {
   "cell_type": "code",
   "execution_count": 1,
   "metadata": {},
   "outputs": [
    {
     "name": "stdout",
     "output_type": "stream",
     "text": [
      "[[-4 -3 -2 -1  0  1  2  3  4]]\n",
      "[[ 5.34635638e+00  1.00075034e-02 -2.41614684e+00 -2.45969769e+00\n",
      "  -1.00000000e+00  1.54030231e+00  5.58385316e+00  1.20100075e+01\n",
      "   2.13463564e+01]]\n"
     ]
    }
   ],
   "source": [
    "import numpy as np\n",
    "\n",
    "x = np.array([i for i in range(-4,5,1)]).reshape((1,9))\n",
    "y=np.cos(x)+x**2+2*x-2  \n",
    "print(x)\n",
    "print(y)"
   ]
  },
  {
   "cell_type": "markdown",
   "metadata": {},
   "source": [
    "## Exercício 2"
   ]
  },
  {
   "cell_type": "code",
   "execution_count": 7,
   "metadata": {},
   "outputs": [
    {
     "data": {
      "image/png": "[encoded data removed]",
      "text/plain": [
       "<Figure size 432x288 with 1 Axes>"
      ]
     },
     "metadata": {
      "needs_background": "light"
     },
     "output_type": "display_data"
    }
   ],
   "source": [
    "import matplotlib.pyplot as plt\n",
    "x = np.linspace(-4,4,50) # array com 20 pontos igualmente espaçados no intervalo 0 e 1\n",
    "y1 = np.sin(x)   \n",
    "y2=x**2 +x -2\n",
    "# Pode-se incluir diversos gráficos\n",
    "plt.plot(x,y1,x,y2) # gera dois gráficos simultaneamente\n",
    "                                # um com os valores (x,y) e outro com (x,x**3)\n",
    "                                # armazenando o resultado em uma variável\n",
    "plt.grid()    "
   ]
  },
  {
   "cell_type": "code",
   "execution_count": 13,
   "metadata": {},
   "outputs": [
    {
     "name": "stdout",
     "output_type": "stream",
     "text": [
      "[-1.61854355]\n",
      "[1.29203729]\n"
     ]
    }
   ],
   "source": [
    "from scipy.optimize import fsolve\n",
    "from math import exp\n",
    "def y(x):\n",
    "  f=np.sin(x)-x**2-x+2\n",
    "  return f\n",
    "R_menor=fsolve(y,-1.5) \n",
    "print(R_menor)\n",
    "R_maior=fsolve(y,1.5) \n",
    "print(R_maior)"
   ]
  },
  {
   "cell_type": "code",
   "execution_count": 16,
   "metadata": {},
   "outputs": [
    {
     "name": "stdout",
     "output_type": "stream",
     "text": [
      "xi:  1.5\n",
      "x0:  1.29203728898938\n",
      "f(x0) =  0\n"
     ]
    }
   ],
   "source": [
    "from sympy import *\n",
    "x=Symbol('x')\n",
    "def NewtonsMethod(x0):\n",
    "    d=diff(f(x),x)\n",
    "    for i in range(1,6,1):\n",
    "        x1 = x0 - (f(x0)/d.doit().subs({x:x0})) \n",
    "        x0 = x1\n",
    "    return x1\n",
    "\n",
    "def f(x):\n",
    "    return sin(x)-x**2-x+2\n",
    "xi = 1.5  # ponto médio do intervalo\n",
    "xr = NewtonsMethod(xi)\n",
    "print('xi: ', xi)\n",
    "print('x0: ', N(xr))\n",
    "print(\"f(x0) = \", N(sin(xr)-xr**2-xr+2))"
   ]
  },
  {
   "cell_type": "code",
   "execution_count": 1,
   "metadata": {},
   "outputs": [
    {
     "name": "stdout",
     "output_type": "stream",
     "text": [
      "[ 3.98770688e+00+2.27530277j  3.98770688e+00-2.27530277j\n",
      " -5.45140144e-01+3.65680288j -5.45140144e-01-3.65680288j\n",
      " -3.38385143e+00+0.j         -1.28204622e-03+0.j        ]\n"
     ]
    }
   ],
   "source": [
    "from numpy import roots\n",
    "#define coeficientes de um polinômio\n",
    "coeficientes=[1,-3.5,2.75,2.125,-3,975,1.25]\n",
    "raiz=roots(coeficientes)\n",
    "print(raiz)"
   ]
  },
  {
   "cell_type": "code",
   "execution_count": null,
   "metadata": {},
   "outputs": [],
   "source": []
  }
 ],
 "metadata": {
  "kernelspec": {
   "display_name": "Python 3",
   "language": "python",
   "name": "python3"
  },
  "language_info": {
   "codemirror_mode": {
    "name": "ipython",
    "version": 3
   },
   "file_extension": ".py",
   "mimetype": "text/x-python",
   "name": "python",
   "nbconvert_exporter": "python",
   "pygments_lexer": "ipython3",
   "version": "3.7.0"
  }
 },
 "nbformat": 4,
 "nbformat_minor": 2
}
