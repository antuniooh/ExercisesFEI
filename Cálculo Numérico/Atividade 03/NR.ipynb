{
 "cells": [
  {
   "cell_type": "code",
   "execution_count": null,
   "metadata": {},
   "outputs": [],
   "source": [
    "from sympy import *\n",
    "x=Symbol('x')\n",
    "def NewtonsMethod(x0):\n",
    "    tolerance=0.000001\n",
    "    d=diff(f(x),x)\n",
    "    while True:\n",
    "        x1 = x0 - (f(x0)/d.doit().subs({x:x0})) \n",
    "        t = abs(x1 - x0)\n",
    "        if t < tolerance:\n",
    "            break\n",
    "        x0 = x1\n",
    "    return x1\n",
    "\n",
    "def f(x):\n",
    "    return (x+1)**2-exp(x)\n",
    "xi = 2.5  # ponto médio do intervalo\n",
    "xr = NewtonsMethod(xi)\n",
    "print('xi: ', xi)\n",
    "print('x0: ', N(xr))\n",
    "print(\"f(x0) = \", N((xr+1)**2-exp(xr)))"
   ]
  }
 ],
 "metadata": {
  "kernelspec": {
   "display_name": "Python 3",
   "language": "python",
   "name": "python3"
  },
  "language_info": {
   "codemirror_mode": {
    "name": "ipython",
    "version": 3
   },
   "file_extension": ".py",
   "mimetype": "text/x-python",
   "name": "python",
   "nbconvert_exporter": "python",
   "pygments_lexer": "ipython3",
   "version": "3.7.0"
  }
 },
 "nbformat": 4,
 "nbformat_minor": 2
}
