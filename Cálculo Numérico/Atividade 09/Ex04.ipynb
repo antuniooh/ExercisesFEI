{
 "cells": [
  {
   "cell_type": "code",
   "execution_count": 6,
   "metadata": {},
   "outputs": [
    {
     "name": "stdout",
     "output_type": "stream",
     "text": [
      "3415.0\n"
     ]
    }
   ],
   "source": [
    "import numpy as np\n",
    "import sympy as sy\n",
    "import matplotlib.pyplot as plt\n",
    "from scipy.interpolate import lagrange\n",
    "from numpy.polynomial.polynomial import Polynomial\n",
    "from sklearn.linear_model import LinearRegression\n",
    "\n",
    "def teste():\n",
    "    x = [0, 5,10,15,20,25,30,35,40,45,50]\n",
    "    y = [0, 20,22,39,42,45,47,45,40,39,0]\n",
    "    i = np.trapz(y,x)\n",
    "\n",
    "    x_2 = [0,10,20,30,40,50]\n",
    "    y_2 = [0,34,50,52,36,0]\n",
    "    i_2 = np.trapz(y_2,x_2)\n",
    "    print(i + i_2)\n",
    "    \n",
    "teste()\n"
   ]
  },
  {
   "cell_type": "code",
   "execution_count": null,
   "metadata": {},
   "outputs": [],
   "source": []
  }
 ],
 "metadata": {
  "kernelspec": {
   "display_name": "Python 3",
   "language": "python",
   "name": "python3"
  },
  "language_info": {
   "codemirror_mode": {
    "name": "ipython",
    "version": 3
   },
   "file_extension": ".py",
   "mimetype": "text/x-python",
   "name": "python",
   "nbconvert_exporter": "python",
   "pygments_lexer": "ipython3",
   "version": "3.7.8"
  }
 },
 "nbformat": 4,
 "nbformat_minor": 4
}
