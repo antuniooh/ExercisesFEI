{
 "cells": [
  {
   "cell_type": "markdown",
   "metadata": {},
   "source": [
    "## Exercício 3"
   ]
  },
  {
   "cell_type": "code",
   "execution_count": 4,
   "metadata": {},
   "outputs": [
    {
     "name": "stdout",
     "output_type": "stream",
     "text": [
      "476.55389929536716\n"
     ]
    }
   ],
   "source": [
    "import numpy as np\n",
    "x = np.linspace(2,3,5)\n",
    "y = x * np.exp(2*x)\n",
    "I = np.trapz(y,x)\n",
    "print(I)\n",
    "\n",
    "erro=np.abs(I-i[0])\n",
    "print(erro)"
   ]
  },
  {
   "cell_type": "code",
   "execution_count": 5,
   "metadata": {},
   "outputs": [
    {
     "name": "stdout",
     "output_type": "stream",
     "text": [
      "(463.3373793410607, 5.144078267139259e-12)\n"
     ]
    }
   ],
   "source": [
    "import scipy.integrate as si\n",
    "f= lambda x:x * np.exp(2*x)\n",
    "i = si.quad(f, 2, 3)\n",
    "print (i)"
   ]
  },
  {
   "cell_type": "code",
   "execution_count": 6,
   "metadata": {},
   "outputs": [
    {
     "name": "stdout",
     "output_type": "stream",
     "text": [
      "13.216519954306477\n"
     ]
    }
   ],
   "source": [
    "erro=np.abs(I-i[0])\n",
    "print(erro)"
   ]
  },
  {
   "cell_type": "code",
   "execution_count": null,
   "metadata": {},
   "outputs": [],
   "source": []
  }
 ],
 "metadata": {
  "kernelspec": {
   "display_name": "Python 3",
   "language": "python",
   "name": "python3"
  },
  "language_info": {
   "codemirror_mode": {
    "name": "ipython",
    "version": 3
   },
   "file_extension": ".py",
   "mimetype": "text/x-python",
   "name": "python",
   "nbconvert_exporter": "python",
   "pygments_lexer": "ipython3",
   "version": "3.7.8"
  }
 },
 "nbformat": 4,
 "nbformat_minor": 4
}
