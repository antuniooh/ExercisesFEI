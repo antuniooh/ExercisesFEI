{
 "cells": [
  {
   "cell_type": "markdown",
   "metadata": {},
   "source": [
    "## Exercício 1"
   ]
  },
  {
   "cell_type": "code",
   "execution_count": 1,
   "metadata": {},
   "outputs": [
    {
     "name": "stdout",
     "output_type": "stream",
     "text": [
      "-8.00\n",
      "Resultado do sistema linear\n",
      "[[ 4.   ]\n",
      " [-2.125]\n",
      " [-0.375]]\n"
     ]
    }
   ],
   "source": [
    "#Importa biblioteca numpy que permite trabalhar com matrizes\n",
    "#Função matrix para definir matrizes\n",
    "#função linalg para fazer matiz inversa\n",
    "import numpy as np\n",
    "#cria a matriz A\n",
    "matriz_A=np.matrix([[3,5,1],[2,2,2],[4,7,3]])\n",
    "#cria a matriz B\n",
    "matriz_B=([[1],[3],[0]])\n",
    "#calcula o determinante de A\n",
    "print(\"%.2f\" %np.linalg.det(matriz_A))\n",
    "#cria a matriz inversa de A\n",
    "matriz_A_inv=np.linalg.inv(matriz_A)\n",
    "#Resolve o sistema linear\n",
    "sol=matriz_A_inv*matriz_B\n",
    "print(\"Resultado do sistema linear\")\n",
    "print(sol)"
   ]
  },
  {
   "cell_type": "code",
   "execution_count": 2,
   "metadata": {},
   "outputs": [
    {
     "data": {
      "text/plain": [
       "{x: 4, y: -17/8, z: -3/8}"
      ]
     },
     "execution_count": 2,
     "metadata": {},
     "output_type": "execute_result"
    }
   ],
   "source": [
    "from sympy import Matrix, solve_linear_system\n",
    "from sympy.abc import x, y,z\n",
    "system = Matrix(( (3,5,1,1), (2,2,2,3),(4,7,3,0)))\n",
    "solve_linear_system(system, x, y,z)"
   ]
  },
  {
   "cell_type": "markdown",
   "metadata": {},
   "source": [
    "## Exercício 2"
   ]
  },
  {
   "cell_type": "code",
   "execution_count": 7,
   "metadata": {},
   "outputs": [
    {
     "name": "stdout",
     "output_type": "stream",
     "text": [
      "1.00\n",
      "Resultado do sistema linear\n",
      "[[5.]\n",
      " [4.]\n",
      " [3.]\n",
      " [2.]\n",
      " [1.]]\n"
     ]
    }
   ],
   "source": [
    "#Importa biblioteca numpy que permite trabalhar com matrizes\n",
    "#Função matrix para definir matrizes\n",
    "#função linalg para fazer matiz inversa\n",
    "import numpy as np\n",
    "#cria a matriz A\n",
    "matriz_A=np.matrix([[1,1,1,1,1],[1,2,3,4,5],[1,3,6,10,15],[1,4,10,20,35],[1,5,15,35,70]])\n",
    "#cria a matriz B\n",
    "matriz_B=([[15],[35],[70],[126],[210]])\n",
    "#calcula o determinante de A\n",
    "print(\"%.2f\" %np.linalg.det(matriz_A))\n",
    "#cria a matriz inversa de A\n",
    "matriz_A_inv=np.linalg.inv(matriz_A)\n",
    "#Resolve o sistema linear\n",
    "sol=matriz_A_inv*matriz_B\n",
    "print(\"Resultado do sistema linear\")\n",
    "print(sol)"
   ]
  },
  {
   "cell_type": "code",
   "execution_count": 10,
   "metadata": {},
   "outputs": [
    {
     "name": "stdout",
     "output_type": "stream",
     "text": [
      "[[5.]\n",
      " [4.]\n",
      " [3.]\n",
      " [2.]\n",
      " [1.]]\n"
     ]
    }
   ],
   "source": [
    "#Resolve com solve\n",
    "import numpy as np\n",
    "#cria a matriz A\n",
    "matriz_A=np.matrix([[1,1,1,1,1],[1,2,3,4,5],[1,3,6,10,15],[1,4,10,20,35],[1,5,15,35,70]])\n",
    "#cria a matriz B\n",
    "matriz_B=([[15],[35],[70],[126],[210]])\n",
    "sol=np.linalg.solve(matriz_A,matriz_B)\n",
    "print(sol)"
   ]
  },
  {
   "cell_type": "markdown",
   "metadata": {},
   "source": [
    "## Exercício 3"
   ]
  },
  {
   "cell_type": "code",
   "execution_count": 1,
   "metadata": {},
   "outputs": [
    {
     "name": "stdout",
     "output_type": "stream",
     "text": [
      "[[0.51 ]\n",
      " [2.265]\n",
      " [0.333]]\n"
     ]
    }
   ],
   "source": [
    "#Resolve com solve\n",
    "import numpy as np\n",
    "#cria a matriz A\n",
    "matriz_A=np.matrix([[200,100,500],[250,120,400],[400,80,600]])\n",
    "#cria a matriz B\n",
    "matriz_B=([[495],[532.50],[585]])\n",
    "sol=np.linalg.solve(matriz_A,matriz_B)\n",
    "print(sol)"
   ]
  },
  {
   "cell_type": "markdown",
   "metadata": {},
   "source": [
    "## Exercício 4"
   ]
  },
  {
   "cell_type": "code",
   "execution_count": 2,
   "metadata": {},
   "outputs": [
    {
     "name": "stdout",
     "output_type": "stream",
     "text": [
      "-0.00\n"
     ]
    }
   ],
   "source": [
    "import numpy as np\n",
    "#cria a matriz A\n",
    "matriz_A=np.matrix([[2,8,4,0],[4,-6,-2,-10],[6,-14,2,-10],[0,2,-2,-2]])\n",
    "#cria a matriz B\n",
    "matriz_B=([[1],[-14],[-16],[-2]])\n",
    "#calcula o determinante de A\n",
    "print(\"%.2f\" %np.linalg.det(matriz_A))"
   ]
  },
  {
   "cell_type": "code",
   "execution_count": 4,
   "metadata": {},
   "outputs": [
    {
     "data": {
      "text/plain": [
       "{z: 19/16 - t, y: 3/16, x: 2*t - 21/8}"
      ]
     },
     "execution_count": 4,
     "metadata": {},
     "output_type": "execute_result"
    }
   ],
   "source": [
    "from sympy import Matrix, solve_linear_system\n",
    "from sympy.abc import x, y,z,t\n",
    "system = Matrix(( (2,8,4,0,1), (4,-6,-2,-10,-14),(6,-14,2,-10,-16),(0,2,-2,-2,-2)))\n",
    "solve_linear_system(system, x, y,z,t)"
   ]
  },
  {
   "cell_type": "code",
   "execution_count": null,
   "metadata": {},
   "outputs": [],
   "source": []
  }
 ],
 "metadata": {
  "kernelspec": {
   "display_name": "Python 3",
   "language": "python",
   "name": "python3"
  },
  "language_info": {
   "codemirror_mode": {
    "name": "ipython",
    "version": 3
   },
   "file_extension": ".py",
   "mimetype": "text/x-python",
   "name": "python",
   "nbconvert_exporter": "python",
   "pygments_lexer": "ipython3",
   "version": "3.7.0"
  }
 },
 "nbformat": 4,
 "nbformat_minor": 2
}
