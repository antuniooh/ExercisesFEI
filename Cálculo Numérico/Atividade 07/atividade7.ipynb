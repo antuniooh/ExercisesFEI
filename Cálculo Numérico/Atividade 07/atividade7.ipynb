{
 "cells": [
  {
   "cell_type": "code",
   "execution_count": null,
   "metadata": {},
   "outputs": [],
   "source": [
    "#Antopnio Gustavo Muniz da Silva 22.119.001-0\n",
    "#Atividade 07"
   ]
  },
  {
   "cell_type": "code",
   "execution_count": 8,
   "metadata": {},
   "outputs": [
    {
     "name": "stdout",
     "output_type": "stream",
     "text": [
      "21.983389956106954*([0.70014871])^x\n"
     ]
    },
    {
     "data": {
      "image/png": "[encoded data removed]",
      "text/plain": [
       "<Figure size 432x288 with 1 Axes>"
      ]
     },
     "metadata": {
      "needs_background": "light"
     },
     "output_type": "display_data"
    }
   ],
   "source": [
    "import sympy as sy\n",
    "import numpy as np\n",
    "import matplotlib.pyplot as plt\n",
    "from sklearn.linear_model import LinearRegression\n",
    "from scipy.optimize import fsolve\n",
    "\n",
    "\n",
    "X = [1,2,3,4]\n",
    "X1 = np.array(X)\n",
    "y = [15.4,10.8,7.5,5.3]\n",
    "y1=np.log(y)\n",
    "X1 = X1.reshape(-1, 1)\n",
    "modelo = LinearRegression().fit(X1, y1)\n",
    "b=np.exp(modelo.coef_)\n",
    "a=np.exp(modelo.intercept_)\n",
    "\n",
    "print(str(a) + \"*(\" + str(b) + \")^x\" )\n",
    "y2=a*b**X       \n",
    "plt.scatter(X, y)\n",
    "plt.plot(X, y2, color = 'red')\n",
    "r1=y-y2; #diferença entre os pontos e a função ajustada\n"
   ]
  },
  {
   "cell_type": "code",
   "execution_count": 1,
   "metadata": {},
   "outputs": [
    {
     "name": "stdout",
     "output_type": "stream",
     "text": [
      "Polinomio interpolador de lagrange: 0.10000000000000009*x^2 0.39999999999999947*x + 10.0\n",
      "Se a distancia for 4km, ele pagará R$ 13.2\n",
      "Valor quando tem 24 reais: 10.0\n"
     ]
    }
   ],
   "source": [
    "import sympy as sy\n",
    "import numpy as np\n",
    "from scipy.interpolate import lagrange\n",
    "from numpy.polynomial.polynomial import Polynomial\n",
    "from scipy.interpolate import lagrange\n",
    "x=[1,7,14]\n",
    "y=[10.5, 17.7,35.2]\n",
    "x = np.array(x)\n",
    "y = np.array(y)\n",
    "poly = lagrange(x, y)\n",
    "Polynomial(poly).coef\n",
    "\n",
    "print(\"Polinomio interpolador de lagrange: \" + str(Polynomial(poly).coef[0]) +\"*x^2 \" \n",
    "      + str(Polynomial(poly).coef[1]) + \"*x + \" + str(Polynomial(poly).coef[2]))\n",
    "\n",
    "print(\"Se a distancia for 4km, ele pagará R$ \" + str(poly(4)))\n",
    "\n",
    "z = np.polyfit(x, y, 2)\n",
    "p = np.poly1d(z)\n",
    "print(\"Valor quando tem 24 reais: \" + str(np.roots(p-24)[1]))"
   ]
  },
  {
   "cell_type": "code",
   "execution_count": 4,
   "metadata": {},
   "outputs": [
    {
     "name": "stdout",
     "output_type": "stream",
     "text": [
      "(0.18633367647525037, 2.0687193788587785e-15)\n",
      "Trapézio : 0.18633367647525037\n",
      "0.0008495914924217807\n"
     ]
    }
   ],
   "source": [
    "import scipy.integrate as si\n",
    "import math\n",
    "import numpy as np\n",
    "\n",
    "f= lambda x:1/(1 + math.exp(x))\n",
    "i = si.quad(f, 1, 2)\n",
    "print(i)\n",
    "print (\"Trapézio : \" + str(i[0]))\n",
    "\n",
    "import numpy as np\n",
    "x = np.linspace(1,2,4)\n",
    "y = 1/(1 + np.exp(x))\n",
    "IT = np.trapz(y,x)\n",
    "I= si.quad(f, 1,2)\n",
    "erro=np.abs(IT-I[0])\n",
    "print(erro)"
   ]
  },
  {
   "cell_type": "code",
   "execution_count": null,
   "metadata": {},
   "outputs": [],
   "source": []
  }
 ],
 "metadata": {
  "kernelspec": {
   "display_name": "Python 3",
   "language": "python",
   "name": "python3"
  },
  "language_info": {
   "codemirror_mode": {
    "name": "ipython",
    "version": 3
   },
   "file_extension": ".py",
   "mimetype": "text/x-python",
   "name": "python",
   "nbconvert_exporter": "python",
   "pygments_lexer": "ipython3",
   "version": "3.7.8"
  }
 },
 "nbformat": 4,
 "nbformat_minor": 4
}
