{
 "cells": [
  {
   "cell_type": "markdown",
   "metadata": {},
   "source": [
    "## Exercício 2"
   ]
  },
  {
   "cell_type": "code",
   "execution_count": 1,
   "metadata": {},
   "outputs": [
    {
     "data": {
      "text/plain": [
       "array([ 0.1,  0.4, 10. ])"
      ]
     },
     "execution_count": 1,
     "metadata": {},
     "output_type": "execute_result"
    }
   ],
   "source": [
    "import sympy as sy\n",
    "import numpy as np\n",
    "from scipy.interpolate import lagrange\n",
    "from numpy.polynomial.polynomial import Polynomial\n",
    "from scipy.interpolate import lagrange\n",
    "x=[1,7,14]       \n",
    "y=[10.5, 17.7,35.2]  \n",
    "x = np.array(x)\n",
    "y = np.array(y)\n",
    "poly = lagrange(x, y)\n",
    "Polynomial(poly).coef"
   ]
  },
  {
   "cell_type": "code",
   "execution_count": 3,
   "metadata": {},
   "outputs": [
    {
     "data": {
      "text/plain": [
       "14.1"
      ]
     },
     "execution_count": 3,
     "metadata": {},
     "output_type": "execute_result"
    }
   ],
   "source": [
    "np.interp(4, x, y)"
   ]
  },
  {
   "cell_type": "code",
   "execution_count": 4,
   "metadata": {},
   "outputs": [
    {
     "name": "stdout",
     "output_type": "stream",
     "text": [
      "[ 0.1  0.4 10. ]\n"
     ]
    },
    {
     "data": {
      "text/plain": [
       "array([-14.,  10.])"
      ]
     },
     "execution_count": 4,
     "metadata": {},
     "output_type": "execute_result"
    }
   ],
   "source": [
    "z = np.polyfit(x, y, 2)\n",
    "print(z)\n",
    "p = np.poly1d(z)\n",
    "np.roots(p-24)"
   ]
  },
  {
   "cell_type": "markdown",
   "metadata": {},
   "source": [
    "## Exercício 3"
   ]
  },
  {
   "cell_type": "code",
   "execution_count": 5,
   "metadata": {},
   "outputs": [
    {
     "name": "stdout",
     "output_type": "stream",
     "text": [
      "0.18681125808985272\n"
     ]
    }
   ],
   "source": [
    "import numpy as np\n",
    "x = np.linspace(1,2,5)\n",
    "y = 1/(1+np.exp(x))\n",
    "I = np.trapz(y,x)\n",
    "print(I)\n"
   ]
  },
  {
   "cell_type": "code",
   "execution_count": 6,
   "metadata": {},
   "outputs": [
    {
     "name": "stdout",
     "output_type": "stream",
     "text": [
      "(0.18633367647525037, 2.0687193788587785e-15)\n"
     ]
    }
   ],
   "source": [
    "import scipy.integrate as si\n",
    "f= lambda x:1/(1+np.exp(x))\n",
    "i = si.quad(f, 1, 2)\n",
    "print (i)\n"
   ]
  },
  {
   "cell_type": "code",
   "execution_count": 7,
   "metadata": {},
   "outputs": [
    {
     "name": "stdout",
     "output_type": "stream",
     "text": [
      "0.00047758161460234594\n"
     ]
    }
   ],
   "source": [
    "erro=np.abs(I-i[0])\n",
    "print(erro)\n"
   ]
  },
  {
   "cell_type": "markdown",
   "metadata": {},
   "source": [
    "## Exercício 1"
   ]
  },
  {
   "cell_type": "code",
   "execution_count": 15,
   "metadata": {},
   "outputs": [
    {
     "name": "stdout",
     "output_type": "stream",
     "text": [
      "3.0902871662056324\n",
      "[-0.35646252]\n",
      "21.983389956106954\n",
      "[0.70014871]\n",
      "0.0029592022702796\n"
     ]
    },
    {
     "data": {
      "image/png": "[encoded data removed]",
      "text/plain": [
       "<Figure size 432x288 with 1 Axes>"
      ]
     },
     "metadata": {
      "needs_background": "light"
     },
     "output_type": "display_data"
    }
   ],
   "source": [
    "import sympy as sy\n",
    "import numpy as np\n",
    "import matplotlib.pyplot as plt\n",
    "from sklearn.linear_model import LinearRegression\n",
    "\n",
    "#ln(y)=ln(a)+xln(b)\n",
    "#Y     = a0+xa1\n",
    "\n",
    "X = [1,2,3,4] #valores de x\n",
    "X1 = np.array(X)\n",
    "y = [15.4,10.8,7.5,5.3] #valores de y\n",
    "y1=np.log(y)\n",
    "X1 = X1.reshape(-1, 1)\n",
    "modelo = LinearRegression().fit(X1, y1)\n",
    "print(modelo.intercept_)# valor que intercepta o eixo y (ao)\n",
    "print(modelo.coef_)# coeficiente angular da reta y=a1x+ao (a1)\n",
    "b=np.exp(modelo.coef_)\n",
    "a=np.exp(modelo.intercept_)\n",
    "print(a)\n",
    "print(b)\n",
    "y2=a*b**X       \n",
    "plt.scatter(X, y)\n",
    "plt.plot(X, y2, color = 'red')\n",
    "r1=y-y2; #diferença entre os pontos e a função ajustada\n",
    "RT1=np.sum(r1**2)  #resíduo\n",
    "print(RT1)\n"
   ]
  },
  {
   "cell_type": "code",
   "execution_count": null,
   "metadata": {},
   "outputs": [],
   "source": []
  }
 ],
 "metadata": {
  "kernelspec": {
   "display_name": "Python 3",
   "language": "python",
   "name": "python3"
  },
  "language_info": {
   "codemirror_mode": {
    "name": "ipython",
    "version": 3
   },
   "file_extension": ".py",
   "mimetype": "text/x-python",
   "name": "python",
   "nbconvert_exporter": "python",
   "pygments_lexer": "ipython3",
   "version": "3.7.0"
  }
 },
 "nbformat": 4,
 "nbformat_minor": 2
}
