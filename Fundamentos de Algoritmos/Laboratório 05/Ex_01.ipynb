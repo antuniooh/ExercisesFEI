{
 "cells": [
  {
   "cell_type": "code",
   "execution_count": 1,
   "metadata": {},
   "outputs": [
    {
     "name": "stdout",
     "output_type": "stream",
     "text": [
      "Digite o número: 5\n",
      "['1', '0', '1']\n"
     ]
    }
   ],
   "source": [
    "num = int(input(\"Digite o número: \"))\n",
    "resto = 0\n",
    "resultado = []\n",
    "\n",
    "while num != 0:\n",
    "  resto = num % 2\n",
    "  resto=str(resto)\n",
    "  resultado.insert(0,resto)\n",
    "  num = num // 2\n",
    "\n",
    "print(resultado)"
   ]
  },
  {
   "cell_type": "code",
   "execution_count": null,
   "metadata": {},
   "outputs": [],
   "source": []
  }
 ],
 "metadata": {
  "kernelspec": {
   "display_name": "Python 3",
   "language": "python",
   "name": "python3"
  },
  "language_info": {
   "codemirror_mode": {
    "name": "ipython",
    "version": 3
   },
   "file_extension": ".py",
   "mimetype": "text/x-python",
   "name": "python",
   "nbconvert_exporter": "python",
   "pygments_lexer": "ipython3",
   "version": "3.6.5"
  }
 },
 "nbformat": 4,
 "nbformat_minor": 2
}
