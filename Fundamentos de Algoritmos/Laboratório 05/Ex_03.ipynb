{
 "cells": [
  {
   "cell_type": "code",
   "execution_count": 36,
   "metadata": {},
   "outputs": [
    {
     "name": "stdout",
     "output_type": "stream",
     "text": [
      "Carro mais economico: Corolla\n",
      "\n",
      "Consumo de cada Carro: \n",
      "\n",
      "Corolla Consumo R$:  2444.987775061125\n",
      "Civic Consumo R$:  4889.97555012225\n",
      "Vectra Consumo R$:  7334.963325183375\n",
      "Duster Consumo R$:  9779.9511002445\n",
      "Punto Consumo R$:  12224.938875305625\n"
     ]
    }
   ],
   "source": [
    "carros = [\"Corolla\",\"Civic\",\"Vectra\",\"Duster\", \"Punto\"]\n",
    "consumo = [10,20,30,40,50]\n",
    "menor = 1\n",
    "\n",
    "#for x in range(0,6):\n",
    "#    car = input(\"Digite um carro: \")\n",
    "#    cons = int(input(\"Digit o consumo de litro por KM: \"))\n",
    "#    carros.append(car)\n",
    "#    consumo.append(cons)\n",
    "\n",
    "\n",
    "for x in range (len(consumo)):\n",
    "    if consumo[x] <= menor:\n",
    "        menor = consumo[x]\n",
    "    \n",
    "print (\"Carro mais economico:\", carros[menor - 1])\n",
    "print(\"\")\n",
    "print(\"Consumo de cada Carro: \")\n",
    "print(\"\")\n",
    "print(carros[0], \"Consumo R$: \", (consumo [0] * 1000)/4.09)\n",
    "print(carros[1], \"Consumo R$: \", (consumo [1] * 1000)/4.09)\n",
    "print(carros[2], \"Consumo R$: \", (consumo [2] * 1000)/4.09)\n",
    "print(carros[3], \"Consumo R$: \", (consumo [3] * 1000)/4.09)\n",
    "print(carros[4], \"Consumo R$: \", (consumo [4] * 1000)/4.09)\n",
    "\n"
   ]
  },
  {
   "cell_type": "code",
   "execution_count": null,
   "metadata": {},
   "outputs": [],
   "source": []
  },
  {
   "cell_type": "code",
   "execution_count": null,
   "metadata": {},
   "outputs": [],
   "source": []
  }
 ],
 "metadata": {
  "kernelspec": {
   "display_name": "Python 3",
   "language": "python",
   "name": "python3"
  },
  "language_info": {
   "codemirror_mode": {
    "name": "ipython",
    "version": 3
   },
   "file_extension": ".py",
   "mimetype": "text/x-python",
   "name": "python",
   "nbconvert_exporter": "python",
   "pygments_lexer": "ipython3",
   "version": "3.6.5"
  }
 },
 "nbformat": 4,
 "nbformat_minor": 2
}
