{
 "cells": [
  {
   "cell_type": "code",
   "execution_count": 5,
   "metadata": {},
   "outputs": [
    {
     "name": "stdout",
     "output_type": "stream",
     "text": [
      "Digite um numero: 4\n",
      "Digite um numero: 44\n",
      "Digite um numero: 4\n",
      "Digite um numero: 4\n",
      "Digite um numero: 4\n",
      "Digite um numero: 45\n",
      "Digite um numero: 5\n",
      "Digite um numero: 5\n",
      "Digite um numero: 5\n",
      "Digite um numero: 5\n",
      "Digite um numero: 66\n",
      "Digite um numero: 6\n",
      "Digite um numero: 6\n",
      "Digite um numero: 68\n",
      "Digite um numero: 88\n",
      "Digite um numero: 8\n",
      "Digite um numero: 82\n",
      "Digite um numero: 2\n",
      "Digite um numero: 3\n",
      "Digite um numero: 3\n",
      "Lista de todos os números:  [3, 3, 2, 82, 8, 88, 68, 6, 6, 66, 5, 5, 5, 5, 45, 4, 4, 4, 44, 4]\n",
      "Lista de todos os impares:  [3, 3, 5, 5, 5, 5, 45]\n",
      "Lista de todos os pares:  [2, 82, 8, 88, 68, 6, 6, 66, 4, 4, 4, 44, 4]\n"
     ]
    }
   ],
   "source": [
    "par = []\n",
    "impar = []\n",
    "numeros = []\n",
    "\n",
    "for x in range (1,21):\n",
    "    num = int(input(\"Digite um numero: \"))\n",
    "    numeros.insert(0,num)\n",
    "    if num % 2 == 0:\n",
    "        par.insert(0,num)\n",
    "    elif num % 2 ==1:\n",
    "        impar.insert(0,num)\n",
    "    \n",
    "    \n",
    "print(\"Lista de todos os números: \",numeros)\n",
    "print(\"Lista de todos os impares: \",impar)\n",
    "print(\"Lista de todos os pares: \",par)\n"
   ]
  },
  {
   "cell_type": "code",
   "execution_count": null,
   "metadata": {},
   "outputs": [],
   "source": []
  },
  {
   "cell_type": "code",
   "execution_count": null,
   "metadata": {},
   "outputs": [],
   "source": []
  }
 ],
 "metadata": {
  "kernelspec": {
   "display_name": "Python 3",
   "language": "python",
   "name": "python3"
  },
  "language_info": {
   "codemirror_mode": {
    "name": "ipython",
    "version": 3
   },
   "file_extension": ".py",
   "mimetype": "text/x-python",
   "name": "python",
   "nbconvert_exporter": "python",
   "pygments_lexer": "ipython3",
   "version": "3.6.5"
  }
 },
 "nbformat": 4,
 "nbformat_minor": 2
}
