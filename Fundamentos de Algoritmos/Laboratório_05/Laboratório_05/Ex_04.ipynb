{
 "cells": [
  {
   "cell_type": "code",
   "execution_count": 6,
   "metadata": {},
   "outputs": [
    {
     "name": "stdout",
     "output_type": "stream",
     "text": [
      "Digite um número: 4\n",
      "Digite um número: 5\n",
      "Digite um número: 869\n",
      "Digite um número: 6\n",
      "Digite um número: 45\n",
      "Digite um número: 4\n",
      "Digite um número: \n",
      "Lista de Todos os numeros: [4, 5, 869, 6, 45, 4]\n",
      "Lista de Todos os numeros pares: [4, 6, 4]\n",
      "Lista de Todos os numeros impares: [5, 869, 45]\n"
     ]
    }
   ],
   "source": [
    "numeros =[]\n",
    "impar =[]\n",
    "par = []\n",
    "\n",
    "while True:\n",
    "    num = input(\"Digite um número: \")\n",
    "    \n",
    "    if num == \"\":\n",
    "        break\n",
    "    \n",
    "    else:\n",
    "        num = int(num)\n",
    "        numeros.append(num)\n",
    "        if num % 2 == 0:\n",
    "            par.append(num)\n",
    "        elif num % 2 == 1:\n",
    "            impar.append(num)\n",
    "            \n",
    "print(\"Lista de Todos os numeros:\", numeros)\n",
    "print(\"Lista de Todos os numeros pares:\", par)\n",
    "print(\"Lista de Todos os numeros impares:\", impar)"
   ]
  },
  {
   "cell_type": "code",
   "execution_count": null,
   "metadata": {},
   "outputs": [],
   "source": []
  }
 ],
 "metadata": {
  "kernelspec": {
   "display_name": "Python 3",
   "language": "python",
   "name": "python3"
  },
  "language_info": {
   "codemirror_mode": {
    "name": "ipython",
    "version": 3
   },
   "file_extension": ".py",
   "mimetype": "text/x-python",
   "name": "python",
   "nbconvert_exporter": "python",
   "pygments_lexer": "ipython3",
   "version": "3.6.5"
  }
 },
 "nbformat": 4,
 "nbformat_minor": 2
}
