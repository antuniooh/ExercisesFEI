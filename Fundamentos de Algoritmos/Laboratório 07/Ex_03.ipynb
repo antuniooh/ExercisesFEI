{
 "cells": [
  {
   "cell_type": "code",
   "execution_count": 4,
   "metadata": {},
   "outputs": [
    {
     "name": "stdout",
     "output_type": "stream",
     "text": [
      "Digite o valor:5\n",
      "Digite o valor:5\n",
      "Digite o valor:5\n",
      "Digite o valor:5\n",
      "Digite o valor:5\n",
      "Digite o valor:63\n",
      "Digite o valor:32\n",
      "Digite o valor:45\n",
      "Digite o valor:14\n",
      "Digite o valor:57\n",
      "Digite o valor:785\n",
      "Digite o valor:45\n",
      "Digite o valor:45\n",
      "Digite o valor:14\n",
      "Digite o valor:25\n",
      "Digite o valor:35\n",
      "Digite o valor:45\n",
      "Digite o valor:11\n",
      "Digite o valor:11\n",
      "Digite o valor:22\n",
      "\n",
      " 5  5  5  5 \n",
      " 5 11 11 14 \n",
      "14 22 25 32 \n",
      "35 45 45 45 \n",
      "45 57 63 785 \n",
      "\n"
     ]
    }
   ],
   "source": [
    "matriz=[]\n",
    "num = 0\n",
    "m = []\n",
    "matriz02 =[]\n",
    "\n",
    "for num_linha in range(5):\n",
    "    linha=[]\n",
    "    for num_coluna in range(4):\n",
    "        num = int(input(\"Digite o valor:\"))\n",
    "        linha.append(num)\n",
    "    matriz.append(linha)\n",
    "print(\"\")\n",
    "\n",
    "for linha in range(len(matriz)):\n",
    "    for coluna in range (len(matriz[linha])):\n",
    "            m.append(matriz[linha][coluna])\n",
    "            m.sort()\n",
    "\n",
    "matriz02.append(m[0:4])\n",
    "matriz02.append(m[4:8])\n",
    "matriz02.append(m[8:12])\n",
    "matriz02.append(m[12:16])\n",
    "matriz02.append(m[16:20])\n",
    "\n",
    "for linha in range(len(matriz02)):\n",
    "    for coluna in range(len(matriz02[linha])):\n",
    "        print(\"%2d\" % matriz02[linha][coluna], end=\" \")\n",
    "    print()\n",
    "\n",
    "print(\"\")\n",
    "\n",
    "\n"
   ]
  },
  {
   "cell_type": "code",
   "execution_count": null,
   "metadata": {},
   "outputs": [],
   "source": []
  }
 ],
 "metadata": {
  "kernelspec": {
   "display_name": "Python 3",
   "language": "python",
   "name": "python3"
  },
  "language_info": {
   "codemirror_mode": {
    "name": "ipython",
    "version": 3
   },
   "file_extension": ".py",
   "mimetype": "text/x-python",
   "name": "python",
   "nbconvert_exporter": "python",
   "pygments_lexer": "ipython3",
   "version": "3.6.7"
  }
 },
 "nbformat": 4,
 "nbformat_minor": 2
}
