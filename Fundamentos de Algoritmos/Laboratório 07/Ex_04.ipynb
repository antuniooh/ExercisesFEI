{
 "cells": [
  {
   "cell_type": "code",
   "execution_count": 4,
   "metadata": {},
   "outputs": [
    {
     "name": "stdout",
     "output_type": "stream",
     "text": [
      "92 41 40 92 80 17 11  7 98 73 38 62 \n",
      "27 80 68 92 85 19 56 99 48 56  4 31 \n",
      "58 22 17 63 63  9  3 13 46 98  3 53 \n",
      "31 39 15 89 15 35 37 27 11 61  2 59 \n",
      " 4 24  8 36 57 57 58 74 19 93 26  5 \n",
      " 1 71 87 59 93 69 54 49 91 81 63 53 \n",
      "58 28 90 72 11 38 13 40 10 30 89  0 \n",
      "26 56 20 38 69 43 22 86 20 68 92 27 \n",
      "40 44 22 73 44 27 54 62 51 98 38 22 \n",
      "13 43 63 58 78 83 65 56 22 66 92 94 \n",
      "98 33 36 17 69 60 35 40 22 71 40 80 \n",
      "42  7 57 58 58 71 20 70 64 19 63 88 \n",
      "\n",
      "Digite a operação desejada: (S ou M): A\n",
      "A opção desejada não é válida\n"
     ]
    }
   ],
   "source": [
    "from random import randint\n",
    "\n",
    "matriz=[]\n",
    "soma = 0\n",
    "\n",
    "for num_linha in range(12):\n",
    "    linha=[]\n",
    "    for num_coluna in range(12):\n",
    "        linha.append(randint(0,99))\n",
    "    matriz.append(linha)\n",
    "\n",
    "for linha in range(len(matriz)):\n",
    "    for coluna in range(len(matriz[linha])):\n",
    "        print(\"%2d\" % matriz[linha][coluna], end=\" \")\n",
    "    print()\n",
    "\n",
    "print(\"\")\n",
    "\n",
    "opcao = input(\"Digite a operação desejada: (S ou M): \")\n",
    "\n",
    "if opcao == \"S\":\n",
    "    for linha in range(len(matriz)):\n",
    "          for coluna in range(0, linha):\n",
    "                if not coluna == matriz:\n",
    "                    soma += matriz[linha][coluna]\n",
    "    print(\"A soma dos valores abaixo da diagonal é:\", soma)\n",
    "\n",
    "elif opcao == \"M\":\n",
    "    for linha in range(len(matriz)):\n",
    "          for coluna in range(len(matriz[linha])):\n",
    "                soma += matriz[linha][coluna]\n",
    "    print(\"A média é:\", soma/66)\n",
    "    \n",
    "else:\n",
    "    print(\"A opção desejada não é válida\")\n"
   ]
  },
  {
   "cell_type": "code",
   "execution_count": null,
   "metadata": {},
   "outputs": [],
   "source": []
  }
 ],
 "metadata": {
  "kernelspec": {
   "display_name": "Python 3",
   "language": "python",
   "name": "python3"
  },
  "language_info": {
   "codemirror_mode": {
    "name": "ipython",
    "version": 3
   },
   "file_extension": ".py",
   "mimetype": "text/x-python",
   "name": "python",
   "nbconvert_exporter": "python",
   "pygments_lexer": "ipython3",
   "version": "3.6.7"
  }
 },
 "nbformat": 4,
 "nbformat_minor": 2
}
