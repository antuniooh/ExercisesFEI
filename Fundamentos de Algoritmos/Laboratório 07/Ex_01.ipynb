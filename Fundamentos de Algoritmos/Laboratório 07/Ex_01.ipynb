{
 "cells": [
  {
   "cell_type": "code",
   "execution_count": 3,
   "metadata": {},
   "outputs": [
    {
     "name": "stdout",
     "output_type": "stream",
     "text": [
      "56 98 21 33 90 29 83 \n",
      " 7 88 98 67 12 56  5 \n",
      "49 32 90 25 40  5 32 \n",
      " 6 58 28 89  0 55 51 \n",
      "20 63 48 10 35 84 26 \n",
      "\n",
      "Menor Valor da Linha:  0.3090687716214995\n",
      "Maior Valor da Linha: 89.406311437402\n",
      "\n"
     ]
    }
   ],
   "source": [
    "MINMAX = 0\n",
    "MIN = 100\n",
    "indice =0\n",
    "\n",
    "from random import uniform\n",
    "\n",
    "matriz=[]\n",
    "\n",
    "for num_linha in range(5):\n",
    "    linha=[]\n",
    "    for num_coluna in range(7):\n",
    "        linha.append(uniform(0,99))\n",
    "    matriz.append(linha)\n",
    "\n",
    "for linha in range(len(matriz)):\n",
    "    for coluna in range(len(matriz[linha])):\n",
    "        print(\"%2d\" % matriz[linha][coluna], end=\" \")\n",
    "    print()\n",
    "\n",
    "print(\"\")\n",
    "\n",
    "for linha in range(len(matriz)):\n",
    "    for coluna in range (len(matriz[linha])):\n",
    "        if matriz[linha][coluna] <= MIN:\n",
    "            MIN = matriz[linha][coluna]\n",
    "            indice = matriz[linha]\n",
    "print(\"Menor Valor da Linha: \", MIN)\n",
    "\n",
    "for x in indice:\n",
    "    if x >= MINMAX:\n",
    "        MINMAX = x\n",
    "print(\"Maior Valor da Linha:\", MINMAX)\n",
    "            \n",
    "print()"
   ]
  },
  {
   "cell_type": "code",
   "execution_count": null,
   "metadata": {},
   "outputs": [],
   "source": []
  }
 ],
 "metadata": {
  "kernelspec": {
   "display_name": "Python 3",
   "language": "python",
   "name": "python3"
  },
  "language_info": {
   "codemirror_mode": {
    "name": "ipython",
    "version": 3
   },
   "file_extension": ".py",
   "mimetype": "text/x-python",
   "name": "python",
   "nbconvert_exporter": "python",
   "pygments_lexer": "ipython3",
   "version": "3.6.7"
  }
 },
 "nbformat": 4,
 "nbformat_minor": 2
}
