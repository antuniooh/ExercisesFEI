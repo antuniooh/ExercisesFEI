{
 "cells": [
  {
   "cell_type": "code",
   "execution_count": 1,
   "metadata": {},
   "outputs": [
    {
     "name": "stdout",
     "output_type": "stream",
     "text": [
      "43 50 75 97 11 89 27 57 15 51 56 30 94 84 18 \n",
      "52 35 32 69  4 59 61 99 25 96 57  4 95 98 63 \n",
      "33 33 85 90 90 82 77 86 12 45 99 32 29 14 19 \n",
      " 0 21 90 82 44 30 60 36  2  2 83  4 46 24 49 \n",
      "52 82 72 94 56 76 93 89 67 66 36 56 28 77 39 \n",
      "48 92 17 53  1 21 72 37 48  6 41  6  3 70 97 \n",
      "24 94 10 45 12 27 75 22 82 78  9 86 78 85  0 \n",
      "94 45 29 20 63 13 90 30  8 32 13 67 29 90 60 \n",
      "76 76 38 85 10 70 59 34 63 18 79 66 98 78 35 \n",
      "89 10 78 64 50  6 95 98 59  3 73 68 41 10 76 \n",
      "\n",
      "Transversal:\n",
      "43 52 33  0 52 48 24 94 76 89 \n",
      "50 35 33 21 82 92 94 45 76 10 \n",
      "75 32 85 90 72 17 10 29 38 78 \n",
      "97 69 90 82 94 53 45 20 85 64 \n",
      "11  4 90 44 56  1 12 63 10 50 \n",
      "89 59 82 30 76 21 27 13 70  6 \n",
      "27 61 77 60 93 72 75 90 59 95 \n",
      "57 99 86 36 89 37 22 30 34 98 \n",
      "15 25 12  2 67 48 82  8 63 59 \n",
      "51 96 45  2 66  6 78 32 18  3 \n",
      "56 57 99 83 36 41  9 13 79 73 \n",
      "30  4 32  4 56  6 86 67 66 68 \n",
      "94 95 29 46 28  3 78 29 98 41 \n",
      "84 98 14 24 77 70 85 90 78 10 \n",
      "18 63 19 49 39 97  0 60 35 76 \n"
     ]
    }
   ],
   "source": [
    "from random import randint\n",
    "\n",
    "matriz=[]\n",
    "\n",
    "for num_linha in range(10):\n",
    "    linha=[]\n",
    "    for num_coluna in range(15):\n",
    "        linha.append(randint(0,99))\n",
    "    matriz.append(linha)\n",
    "\n",
    "for linha in range(len(matriz)):\n",
    "    for coluna in range(len(matriz[linha])):\n",
    "        print(\"%2d\" % matriz[linha][coluna], end=\" \")\n",
    "    print()\n",
    "\n",
    "print(\"\")\n",
    "print(\"Transversal:\")\n",
    "\n",
    "for linha in range(15):\n",
    "    for coluna in range(10):\n",
    "        print(\"%2d\" % matriz[coluna][linha], end=\" \")\n",
    "    print()\n"
   ]
  },
  {
   "cell_type": "code",
   "execution_count": null,
   "metadata": {},
   "outputs": [],
   "source": []
  }
 ],
 "metadata": {
  "kernelspec": {
   "display_name": "Python 3",
   "language": "python",
   "name": "python3"
  },
  "language_info": {
   "codemirror_mode": {
    "name": "ipython",
    "version": 3
   },
   "file_extension": ".py",
   "mimetype": "text/x-python",
   "name": "python",
   "nbconvert_exporter": "python",
   "pygments_lexer": "ipython3",
   "version": "3.6.7"
  }
 },
 "nbformat": 4,
 "nbformat_minor": 2
}
