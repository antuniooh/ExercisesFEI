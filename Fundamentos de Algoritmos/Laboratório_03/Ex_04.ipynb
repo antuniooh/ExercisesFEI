{
 "cells": [
  {
   "cell_type": "code",
   "execution_count": 7,
   "metadata": {},
   "outputs": [
    {
     "name": "stdout",
     "output_type": "stream",
     "text": [
      "Digite a quantidade de litros vendidos: 50\n",
      "Digite o tipo de combustivel: Gasolina\n",
      "o valor total é de: R$ 197.4\n"
     ]
    }
   ],
   "source": [
    "litros = int(input(\"Digite a quantidade de litros vendidos: \"))\n",
    "combustivel = input(\"Digite o tipo de combustivel: \")\n",
    "\n",
    "if combustivel == \"Álcool\":\n",
    "    if litros <= 20:\n",
    "        desconto = 0.97 * 2.80\n",
    "    if litros > 20:\n",
    "        desconto = 0.95 * 2.80\n",
    "    \n",
    "    valor = (litros * desconto)\n",
    "    print(\"o valor total é de: R$\", valor)\n",
    "    \n",
    "elif combustivel == \"Gasolina\":\n",
    "    if litros <= 20:\n",
    "        desconto = 0.96 * 4.20\n",
    "    if litros > 20:\n",
    "        desconto = 0.94 * 4.20\n",
    "        \n",
    "    valor = (litros * desconto)\n",
    "    print(\"o valor total é de: R$\", valor)\n",
    "        "
   ]
  },
  {
   "cell_type": "code",
   "execution_count": null,
   "metadata": {},
   "outputs": [],
   "source": []
  }
 ],
 "metadata": {
  "kernelspec": {
   "display_name": "Python 3",
   "language": "python",
   "name": "python3"
  },
  "language_info": {
   "codemirror_mode": {
    "name": "ipython",
    "version": 3
   },
   "file_extension": ".py",
   "mimetype": "text/x-python",
   "name": "python",
   "nbconvert_exporter": "python",
   "pygments_lexer": "ipython3",
   "version": "3.6.5"
  }
 },
 "nbformat": 4,
 "nbformat_minor": 2
}
