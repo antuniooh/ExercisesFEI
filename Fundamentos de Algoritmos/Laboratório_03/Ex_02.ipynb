{
 "cells": [
  {
   "cell_type": "code",
   "execution_count": 26,
   "metadata": {},
   "outputs": [
    {
     "name": "stdout",
     "output_type": "stream",
     "text": [
      "Digite o valor por hora trabalhada: 100\n",
      "Digite a quantidade de horas trabalhadas: 20\n",
      "\n",
      "Salário Bruto: (100 * 20)    : R$  2000.0\n",
      "(-)IR (10 )                 : R$  200.0\n",
      "(-)INSS (10%)               : R$  200.0\n",
      "FGTS (11%)                  : R$  220.0\n",
      "____________________________________\n",
      "Total de descontos          : R$  400.0\n",
      "____________________________________\n",
      "Salário Liquido             : R$  1600.0\n"
     ]
    }
   ],
   "source": [
    "VH = float(input(\"Digite o valor por hora trabalhada: \"))\n",
    "QH = float(input(\"Digite a quantidade de horas trabalhadas: \"))\n",
    "\n",
    "Sal_Bruto = VH * QH\n",
    "\n",
    "FGTS = Sal_Bruto * 0.11\n",
    "\n",
    "INSS = Sal_Bruto * 0.10\n",
    "\n",
    "if Sal_Bruto <= 900.00:\n",
    "    IR = 0\n",
    "if Sal_Bruto > 900.00 and Sal_Bruto <= 1500.00:\n",
    "    IR = 5\n",
    "if Sal_Bruto > 1500.00 and Sal_Bruto <= 2500.0:\n",
    "    IR = 10\n",
    "if Sal_Bruto > 2500.0:\n",
    "    IR = 20\n",
    "    \n",
    "Valor_IR = (Sal_Bruto * IR)/100\n",
    "\n",
    "Sal_Liquido = Sal_Bruto - (INSS + Valor_IR)\n",
    "\n",
    "print(\"\")\n",
    "print(\"Salário Bruto: (%d * %d)    :\" % (VH, QH),\"R$ \", Sal_Bruto)\n",
    "print(\"(-)IR (%d )                 :\" % IR, \"R$ \",Valor_IR )\n",
    "print(\"(-)INSS (10%)               :\", \"R$ \",INSS)\n",
    "print(\"FGTS (11%)                  :\", \"R$ \",FGTS)\n",
    "print(\"____________________________________\")\n",
    "print(\"Total de descontos          :\", \"R$ \", INSS + Valor_IR)\n",
    "print(\"____________________________________\")\n",
    "print(\"Salário Liquido             :\", \"R$ \", Sal_Liquido)\n",
    "\n"
   ]
  },
  {
   "cell_type": "code",
   "execution_count": null,
   "metadata": {},
   "outputs": [],
   "source": []
  },
  {
   "cell_type": "code",
   "execution_count": null,
   "metadata": {},
   "outputs": [],
   "source": []
  }
 ],
 "metadata": {
  "kernelspec": {
   "display_name": "Python 3",
   "language": "python",
   "name": "python3"
  },
  "language_info": {
   "codemirror_mode": {
    "name": "ipython",
    "version": 3
   },
   "file_extension": ".py",
   "mimetype": "text/x-python",
   "name": "python",
   "nbconvert_exporter": "python",
   "pygments_lexer": "ipython3",
   "version": "3.6.5"
  }
 },
 "nbformat": 4,
 "nbformat_minor": 2
}
