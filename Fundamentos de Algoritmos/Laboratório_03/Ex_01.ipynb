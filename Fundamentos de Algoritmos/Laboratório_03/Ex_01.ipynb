{
 "cells": [
  {
   "cell_type": "code",
   "execution_count": 11,
   "metadata": {},
   "outputs": [
    {
     "name": "stdout",
     "output_type": "stream",
     "text": [
      "Telefonou para a vítima?: Não\n",
      "Esteve no local do crime?: Não\n",
      "Mora perto da vítima?: Sim\n",
      "Devia para a vítima?: Não\n",
      "Já trabalhou com a vítima?: Não\n",
      "Inocente\n"
     ]
    }
   ],
   "source": [
    "P1 = input(\"Telefonou para a vítima?: \")\n",
    "P2 = input(\"Esteve no local do crime?: \")\n",
    "P3 = input(\"Mora perto da vítima?: \")\n",
    "P4 = input(\"Devia para a vítima?: \")\n",
    "P5 = input(\"Já trabalhou com a vítima?: \")\n",
    "\n",
    "i = 0\n",
    "\n",
    "if P1 == \"Sim\":\n",
    "    i+=1\n",
    "elif P1 ==\"Não\":\n",
    "    i+=0\n",
    "else:\n",
    "    print(\"Digite 'Sim' ou 'Não'\")\n",
    "    \n",
    "if P2 == \"Sim\":\n",
    "    i+=1\n",
    "elif P2 ==\"Não\":\n",
    "    i+=0\n",
    "else:\n",
    "    print(\"2Digite 'Sim' ou 'Não'\")\n",
    "    \n",
    "if P3 == \"Sim\":\n",
    "    i+=1\n",
    "elif P3 ==\"Não\":\n",
    "    i+=0\n",
    "else:\n",
    "    print(\"Digite 'Sim' ou 'Não'\")\n",
    "    \n",
    "if P4 == \"Sim\":\n",
    "    i+=1\n",
    "elif P4 ==\"Não\":\n",
    "    i+=0\n",
    "else:\n",
    "    print(\"Digite 'Sim' ou 'Não'\")\n",
    "    \n",
    "if P5 == \"Sim\":\n",
    "    i+=1\n",
    "elif P5 ==\"Não\":\n",
    "    i+=0\n",
    "else:\n",
    "    print(\"Digite 'Sim' ou 'Não'\")\n",
    "    \n",
    "    \n",
    "if i == 2:\n",
    "    print(\"Suspeita\")\n",
    "\n",
    "elif i > 2 and i <= 4:\n",
    "    print(\"Cúmplice\")\n",
    "    \n",
    "elif i == 5:\n",
    "    print(\"Culpada\")\n",
    "    \n",
    "else:\n",
    "    print(\"Inocente\")\n",
    "\n",
    "    \n"
   ]
  },
  {
   "cell_type": "code",
   "execution_count": null,
   "metadata": {},
   "outputs": [],
   "source": []
  },
  {
   "cell_type": "code",
   "execution_count": null,
   "metadata": {},
   "outputs": [],
   "source": []
  }
 ],
 "metadata": {
  "kernelspec": {
   "display_name": "Python 3",
   "language": "python",
   "name": "python3"
  },
  "language_info": {
   "codemirror_mode": {
    "name": "ipython",
    "version": 3
   },
   "file_extension": ".py",
   "mimetype": "text/x-python",
   "name": "python",
   "nbconvert_exporter": "python",
   "pygments_lexer": "ipython3",
   "version": "3.6.5"
  }
 },
 "nbformat": 4,
 "nbformat_minor": 2
}
