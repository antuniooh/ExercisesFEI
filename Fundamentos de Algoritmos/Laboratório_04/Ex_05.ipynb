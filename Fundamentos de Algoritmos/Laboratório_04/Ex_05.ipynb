{
 "cells": [
  {
   "cell_type": "code",
   "execution_count": 18,
   "metadata": {},
   "outputs": [
    {
     "name": "stdout",
     "output_type": "stream",
     "text": [
      "Digite a coluna da posição: j\n",
      "Digite a linha da posição: 5\n",
      "O valor inserido não se encontra em um tabuleiro de xadrez\n"
     ]
    }
   ],
   "source": [
    "letra = input(\"Digite a coluna da posição: \")\n",
    "num = int(input(\"Digite a linha da posição: \"))\n",
    "\n",
    "if letra == \"a\" and num == 1 or letra ==\"c\" and num == 1 or letra ==\"e\" and num == 1 or letra ==\"g\" and num == 1:\n",
    "    print(\"A posição digitada é de um quadrado preto\")\n",
    "elif letra == \"a\" and num % 2 == 1 or letra ==\"c\" and num % 2 == 1 or letra ==\"e\" and num % 2 == 1 or letra ==\"g\" and num % 2 == 1:\n",
    "    print(\"A posição digitada é de um quadrado preto\")\n",
    "elif letra == \"a\" and num % 2 == 0 or letra ==\"c\" and num % 2 == 0 or letra ==\"e\" and num % 2 == 0 or letra ==\"g\" and num % 2 == 0:\n",
    "    print(\"A posição digitada é de um quadrado branco\")\n",
    "elif letra == \"b\" and num == 1 or letra ==\"d\" and num == 1 or letra ==\"f\" and num == 1 or letra ==\"h\" and num == 1:\n",
    "    print(\"A posição digitada é de um quadrado branco\")\n",
    "elif letra == \"b\" and num % 2 == 1 or letra ==\"d\" and num % 2 == 1 or letra ==\"f\" and num % 2 == 1 or letra ==\"h\" and num % 2 == 1:\n",
    "    print(\"A posição digitada é de um quadrado branco\")\n",
    "elif letra == \"b\" and num % 2 == 0 or letra ==\"d\" and num % 2 == 0 or letra ==\"f\" and num % 2 == 0 or letra ==\"h\" and num % 2 == 0:\n",
    "    print(\"A posição digitada é de um quadrado preto\")\n",
    "else:\n",
    "    print(\"O valor inserido não se encontra em um tabuleiro de xadrez\")\n"
   ]
  },
  {
   "cell_type": "code",
   "execution_count": null,
   "metadata": {},
   "outputs": [],
   "source": []
  },
  {
   "cell_type": "code",
   "execution_count": null,
   "metadata": {},
   "outputs": [],
   "source": []
  }
 ],
 "metadata": {
  "kernelspec": {
   "display_name": "Python 3",
   "language": "python",
   "name": "python3"
  },
  "language_info": {
   "codemirror_mode": {
    "name": "ipython",
    "version": 3
   },
   "file_extension": ".py",
   "mimetype": "text/x-python",
   "name": "python",
   "nbconvert_exporter": "python",
   "pygments_lexer": "ipython3",
   "version": "3.6.5"
  }
 },
 "nbformat": 4,
 "nbformat_minor": 2
}
