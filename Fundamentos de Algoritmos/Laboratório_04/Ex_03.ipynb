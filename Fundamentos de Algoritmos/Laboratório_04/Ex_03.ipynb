{
 "cells": [
  {
   "cell_type": "code",
   "execution_count": 9,
   "metadata": {},
   "outputs": [
    {
     "name": "stdout",
     "output_type": "stream",
     "text": [
      "Digite o mês: Janeiro\n",
      "Digite o dia: 14\n",
      "A estação na data digitada é Verão\n"
     ]
    }
   ],
   "source": [
    "mes = input(\"Digite o mês: \")\n",
    "dia = int(input(\"Digite o dia: \"))\n",
    "\n",
    "if mes ==\"Janeiro\":\n",
    "    mes = 1\n",
    "    \n",
    "elif mes ==\"Fevereiro\":\n",
    "    mes = 2\n",
    "    \n",
    "elif mes ==\"Março\":\n",
    "    mes = 3\n",
    "    \n",
    "elif mes ==\"Abril\":\n",
    "    mes = 4\n",
    "    \n",
    "elif mes ==\"Maio\":\n",
    "    mes = 5\n",
    "    \n",
    "elif mes ==\"Junho\":\n",
    "    mes = 6\n",
    "    \n",
    "elif mes ==\"Julho\":\n",
    "    mes = 7\n",
    "    \n",
    "elif mes ==\"Agosto\":\n",
    "    mes = 8\n",
    "    \n",
    "elif mes ==\"Setembro\":\n",
    "    mes = 9\n",
    "    \n",
    "elif mes ==\"Outubro\":\n",
    "    mes = 10\n",
    "    \n",
    "elif mes ==\"Novembro\":\n",
    "    mes = 11\n",
    "    \n",
    "elif mes ==\"Dezembro\":\n",
    "    mes = 12\n",
    "    \n",
    "else:\n",
    "    print(\"O mês digitado não existe\")\n",
    "    \n",
    "if dia <= 0 or dia > 31:\n",
    "    print(\"O dia digitado não existe\")    \n",
    "    \n",
    "#outono\n",
    "if mes == 3 and dia >= 20:\n",
    "    print(\"A estação na data digitada é Outono\")\n",
    "elif mes == 4 or mes == 5:\n",
    "    print(\"A estação na data digitada é Outono\")\n",
    "elif mes == 6 and dia < 21:\n",
    "    print(\"A estação na data digitada é Outono\")\n",
    "    \n",
    "#inverno\n",
    "if mes == 6 and dia >= 21:\n",
    "    print(\"A estação na data digitada é Inverno\")\n",
    "elif mes == 7 or mes == 8:\n",
    "    print(\"A estação na data digitada é Inverno\")\n",
    "elif mes == 9 and dia < 22:\n",
    "    print(\"A estação na data digitada é Inverno\")\n",
    "\n",
    "#primavera\n",
    "if mes == 9 and dia >= 22:\n",
    "    print(\"A estação na data digitada é Primavera\")\n",
    "elif mes == 10 or mes == 11:\n",
    "    print(\"A estação na data digitada é Primavera\")\n",
    "elif mes == 12 and dia < 21:\n",
    "    print(\"A estação na data digitada é Primavera\")\n",
    "\n",
    "#verão\n",
    "if mes == 12 and dia >=21:\n",
    "    print(\"A estação na data digitada é Verão\")\n",
    "elif mes == 1 or mes == 2:\n",
    "    print(\"A estação na data digitada é Verão\")\n",
    "elif mes == 3 and dia < 20:\n",
    "    print(\"A estação na data digitada é Verão\")\n",
    "\n",
    "\n"
   ]
  },
  {
   "cell_type": "code",
   "execution_count": null,
   "metadata": {},
   "outputs": [],
   "source": []
  }
 ],
 "metadata": {
  "kernelspec": {
   "display_name": "Python 3",
   "language": "python",
   "name": "python3"
  },
  "language_info": {
   "codemirror_mode": {
    "name": "ipython",
    "version": 3
   },
   "file_extension": ".py",
   "mimetype": "text/x-python",
   "name": "python",
   "nbconvert_exporter": "python",
   "pygments_lexer": "ipython3",
   "version": "3.6.5"
  }
 },
 "nbformat": 4,
 "nbformat_minor": 2
}
