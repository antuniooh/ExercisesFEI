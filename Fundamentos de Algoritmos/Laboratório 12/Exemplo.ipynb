{
 "cells": [
  {
   "cell_type": "code",
   "execution_count": 6,
   "metadata": {},
   "outputs": [],
   "source": [
    "from tkinter import *\n",
    "\n",
    "#cria a variavel janela\n",
    "janela = Tk()\n",
    "\n",
    "#atribui um tiulo a variavel janela\n",
    "janela.title(\"Algoritmos\")\n",
    "\n",
    "#atribui o tamanho da janela\n",
    "janela.geometry('400x400')\n",
    "\n",
    "#cria o rotulo (label) na janela desejada, atribui seu texto e configura-o\n",
    "rotulo = Label(janela, text =\"Primeira aplicação gráfica no Python!\", font=(\"Arial Bold\", 14))\n",
    "\n",
    "#configura o local onde esse label vai aparecer\n",
    "#sua referencia é o centro\n",
    "rotulo.place(x=200, y=100, anchor=CENTER)\n",
    "\n",
    "#cria uma entrada de texto\n",
    "entrada = Entry(janela, width=14, font=(\"Arial Bold\", 14))\n",
    "entrada.place(x=200, y=50, anchor=CENTER)\n",
    "\n",
    "#definição da função clique do botao\n",
    "def clique():\n",
    "    resposta = entrada.get()\n",
    "    rotulo['text'] = resposta\n",
    "\n",
    "#cria o botao na janela\n",
    "botao = Button(janela, text=\"Clique aqui!\", command=clique)\n",
    "\n",
    "#configura onde ele vai aparecer\n",
    "botao.place(x=200, y=200, anchor=CENTER)\n",
    "\n",
    "#chama a função mainloop,para manter sempre aberta\n",
    "janela.mainloop()"
   ]
  },
  {
   "cell_type": "code",
   "execution_count": null,
   "metadata": {},
   "outputs": [],
   "source": []
  }
 ],
 "metadata": {
  "kernelspec": {
   "display_name": "Python 3",
   "language": "python",
   "name": "python3"
  },
  "language_info": {
   "codemirror_mode": {
    "name": "ipython",
    "version": 3
   },
   "file_extension": ".py",
   "mimetype": "text/x-python",
   "name": "python",
   "nbconvert_exporter": "python",
   "pygments_lexer": "ipython3",
   "version": "3.6.5"
  }
 },
 "nbformat": 4,
 "nbformat_minor": 2
}
