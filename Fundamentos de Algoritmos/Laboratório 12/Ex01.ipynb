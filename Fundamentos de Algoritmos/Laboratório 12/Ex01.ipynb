{
 "cells": [
  {
   "cell_type": "code",
   "execution_count": 1,
   "metadata": {},
   "outputs": [],
   "source": [
    "from tkinter import *\n",
    "\n",
    "#cria a variavel janela\n",
    "janela = Tk()\n",
    "\n",
    "#atribui um tiulo a variavel janela\n",
    "janela.title(\"Soma\")\n",
    "\n",
    "#atribui o tamanho da janela\n",
    "janela.geometry('600x300')\n",
    "\n",
    "#cria os rotulos (label) na janela desejada, atribui seu texto e configura-o\n",
    "rotulo1 = Label(janela, text =\"Digite o primeiro número: \", font=(\"Arial \", 12))\n",
    "rotulo2 = Label(janela, text =\"Digite o segundo número: \", font=(\"Arial \", 12))\n",
    "result = Label(janela, text =\"Resultado:  \", font=(\"Arial\", 12))\n",
    "\n",
    "#configura o local onde as labels vao aparecer\n",
    "#sua referencia é o centro\n",
    "rotulo1.place(x=200, y=100, anchor=CENTER)\n",
    "rotulo2.place(x=200, y=140, anchor=CENTER)\n",
    "result.place(x=200, y=180, anchor=CENTER)\n",
    "\n",
    "\n",
    "#cria as entradas de texto\n",
    "entrada1 = Entry(janela, width=14, font=(\"Arial\", 12))\n",
    "entrada1.place(x=400, y=100, anchor=CENTER)\n",
    "entrada2 = Entry(janela, width=14, font=(\"Arial\", 12))\n",
    "entrada2.place(x=400, y=140, anchor=CENTER)\n",
    "saida = Entry(janela, width=14, font=(\"Arial\", 12))\n",
    "saida.place(x=400, y=180, anchor=CENTER)\n",
    "\n",
    "#definição da função clique do botao\n",
    "def soma():\n",
    "    valor1 = entrada1.get()\n",
    "    valor2 = entrada2.get()\n",
    "    resultado = saida.get()\n",
    "  \n",
    "    soma = int(valor1) + int(valor2)\n",
    "    if resultado !=\"\":\n",
    "        saida.delete(0,END)\n",
    "        \n",
    "        saida.insert(0,str(soma))\n",
    "    else:\n",
    "        saida.insert(0,str(soma))\n",
    "    \n",
    "\n",
    "#cria os botoes na janela\n",
    "calcula = Button(janela, text=\"Soma!\", command=soma)\n",
    "\n",
    "\n",
    "#configura onde ele vai aparecer\n",
    "calcula.place(x=200, y=220, anchor=CENTER)\n",
    "\n",
    "\n",
    "#chama a função mainloop,para manter sempre aberta\n",
    "janela.mainloop()"
   ]
  },
  {
   "cell_type": "code",
   "execution_count": null,
   "metadata": {},
   "outputs": [],
   "source": []
  }
 ],
 "metadata": {
  "kernelspec": {
   "display_name": "Python 3",
   "language": "python",
   "name": "python3"
  },
  "language_info": {
   "codemirror_mode": {
    "name": "ipython",
    "version": 3
   },
   "file_extension": ".py",
   "mimetype": "text/x-python",
   "name": "python",
   "nbconvert_exporter": "python",
   "pygments_lexer": "ipython3",
   "version": "3.6.5"
  }
 },
 "nbformat": 4,
 "nbformat_minor": 2
}
