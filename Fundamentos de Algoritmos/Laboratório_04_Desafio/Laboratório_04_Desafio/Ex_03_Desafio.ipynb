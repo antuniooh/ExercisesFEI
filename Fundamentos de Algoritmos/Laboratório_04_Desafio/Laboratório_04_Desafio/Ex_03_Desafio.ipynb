{
 "cells": [
  {
   "cell_type": "code",
   "execution_count": 65,
   "metadata": {},
   "outputs": [
    {
     "name": "stdout",
     "output_type": "stream",
     "text": [
      "Digite o valor da classificação do funcionário: 0.4\n",
      "0.4 / Aceitável / 0.0\n"
     ]
    }
   ],
   "source": [
    "clas = float(input(\"Digite o valor da classificação do funcionário: \"))\n",
    "\n",
    "if clas != 0.0 and clas != 0.4 and clas != 0.6 and clas < 0.6:\n",
    "    print(\"A classificação não está dentro do valor\")\n",
    "    Status = \"Indefinido\"\n",
    "else:\n",
    "    if clas == 0.0:\n",
    "        Status = \"Inaceitável\"\n",
    "        Aumento = 0.0 ** 2400\n",
    "    elif clas == 0.4:\n",
    "        Status = \"Aceitável\"\n",
    "        Aumento = 0.4 ** 2400\n",
    "    else:\n",
    "        Status = \"Excelente\"\n",
    "        Aumento = clas ** 2400\n",
    "\n",
    "        \n",
    "\n",
    "        \n",
    "print(clas,\"/\",Status,\"/\",Aumento)"
   ]
  },
  {
   "cell_type": "code",
   "execution_count": null,
   "metadata": {},
   "outputs": [],
   "source": []
  },
  {
   "cell_type": "code",
   "execution_count": null,
   "metadata": {},
   "outputs": [],
   "source": []
  }
 ],
 "metadata": {
  "kernelspec": {
   "display_name": "Python 3",
   "language": "python",
   "name": "python3"
  },
  "language_info": {
   "codemirror_mode": {
    "name": "ipython",
    "version": 3
   },
   "file_extension": ".py",
   "mimetype": "text/x-python",
   "name": "python",
   "nbconvert_exporter": "python",
   "pygments_lexer": "ipython3",
   "version": "3.6.5"
  }
 },
 "nbformat": 4,
 "nbformat_minor": 2
}
