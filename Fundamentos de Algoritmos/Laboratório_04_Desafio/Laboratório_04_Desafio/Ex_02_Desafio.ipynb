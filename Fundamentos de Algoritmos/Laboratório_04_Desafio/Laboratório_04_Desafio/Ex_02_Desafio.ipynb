{
 "cells": [
  {
   "cell_type": "code",
   "execution_count": 49,
   "metadata": {},
   "outputs": [
    {
     "name": "stdout",
     "output_type": "stream",
     "text": [
      "Digite o dia: 28\n",
      "Digite o mes: 2\n",
      "Digite o ano: 2019\n",
      "O dia seguinte é:  1 / 3 / 2019\n"
     ]
    }
   ],
   "source": [
    "dia = int(input(\"Digite o dia: \"))\n",
    "mes = int(input(\"Digite o mes: \"))\n",
    "ano = int(input(\"Digite o ano: \"))\n",
    "\n",
    "#bissexto status\n",
    "if (ano % 400 == 0) or ((ano % 4 == 0) and (ano % 100 !=0)):\n",
    "    status = \"bissexto\"\n",
    "else:\n",
    "    status = \"não bissexto\"\n",
    "\n",
    "# validar mes\n",
    "if mes <= 0 or mes > 12:\n",
    "    print(\"O mes digitado não existe\")\n",
    "    \n",
    "\n",
    "#validar ano\n",
    "if ano <= 0:\n",
    "    print(\"O ano digitado não existe\")\n",
    "    \n",
    "\n",
    "\n",
    "#dia\n",
    "if dia <= 0 or dia > 31:\n",
    "    print(\"O dia digitado não existe\")\n",
    "#bissexto\n",
    "elif mes == 2 and status == \"bissexto\" and dia == 29:\n",
    "    mes +=1\n",
    "    dia = 1\n",
    "elif mes == 2 and status == \"não bissexto\" and dia == 29:\n",
    "    print(\"o ano digitado não é bissexto\")\n",
    "elif mes == 2 and status == \"não bissexto\" and dia < 29:\n",
    "    mes +=1\n",
    "    dia = 1\n",
    "#mes normal\n",
    "elif dia == 31 and mes != 12:\n",
    "    mes +=1\n",
    "    dia = 1\n",
    "elif mes == 12 and dia == 31:\n",
    "    mes = 1\n",
    "    dia = 1\n",
    "    ano += 1\n",
    "else:\n",
    "    dia +=1\n",
    "\n",
    "    \n",
    "print(\"O dia seguinte é: \", dia, \"/\",mes,\"/\",ano)\n",
    "    \n",
    "\n",
    "\n"
   ]
  },
  {
   "cell_type": "code",
   "execution_count": null,
   "metadata": {},
   "outputs": [],
   "source": []
  },
  {
   "cell_type": "code",
   "execution_count": null,
   "metadata": {},
   "outputs": [],
   "source": []
  }
 ],
 "metadata": {
  "kernelspec": {
   "display_name": "Python 3",
   "language": "python",
   "name": "python3"
  },
  "language_info": {
   "codemirror_mode": {
    "name": "ipython",
    "version": 3
   },
   "file_extension": ".py",
   "mimetype": "text/x-python",
   "name": "python",
   "nbconvert_exporter": "python",
   "pygments_lexer": "ipython3",
   "version": "3.6.5"
  }
 },
 "nbformat": 4,
 "nbformat_minor": 2
}
