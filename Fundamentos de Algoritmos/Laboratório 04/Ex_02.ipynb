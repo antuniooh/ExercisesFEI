{
 "cells": [
  {
   "cell_type": "code",
   "execution_count": 6,
   "metadata": {},
   "outputs": [
    {
     "name": "stdout",
     "output_type": "stream",
     "text": [
      "Digite o número de lados da figura geometrica: 6\n",
      "A figura é um hexágono\n"
     ]
    }
   ],
   "source": [
    "lados = int(input(\"Digite o número de lados da figura geometrica: \"))\n",
    "    \n",
    "if lados == 3:\n",
    "    print(\"A figura é um triângulo\")\n",
    "    \n",
    "elif lados == 3:\n",
    "    print(\"A figura é um triângulo\")\n",
    "    \n",
    "elif lados == 4:\n",
    "    print(\"A figura é um quadrilátero\")\n",
    "    \n",
    "elif lados == 5:\n",
    "    print(\"A figura é um pentágono\")\n",
    "    \n",
    "elif lados == 6:\n",
    "    print(\"A figura é um hexágono\")\n",
    "    \n",
    "elif lados == 7:\n",
    "    print(\"A figura é um heptágono\")\n",
    "    \n",
    "elif lados == 8:\n",
    "    print(\"A figura é um octágono\")\n",
    "    \n",
    "elif lados == 9:\n",
    "    print(\"A figura é um eneágono\")\n",
    "    \n",
    "elif lados == 10:\n",
    "    print(\"A figura é um decágono\")\n",
    "    \n",
    "else:\n",
    "    print(\"O número de lados digitado está fora do intervalo\")"
   ]
  },
  {
   "cell_type": "code",
   "execution_count": null,
   "metadata": {},
   "outputs": [],
   "source": []
  }
 ],
 "metadata": {
  "kernelspec": {
   "display_name": "Python 3",
   "language": "python",
   "name": "python3"
  },
  "language_info": {
   "codemirror_mode": {
    "name": "ipython",
    "version": 3
   },
   "file_extension": ".py",
   "mimetype": "text/x-python",
   "name": "python",
   "nbconvert_exporter": "python",
   "pygments_lexer": "ipython3",
   "version": "3.6.5"
  }
 },
 "nbformat": 4,
 "nbformat_minor": 2
}
