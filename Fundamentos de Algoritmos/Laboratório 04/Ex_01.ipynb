{
 "cells": [
  {
   "cell_type": "code",
   "execution_count": 5,
   "metadata": {},
   "outputs": [
    {
     "name": "stdout",
     "output_type": "stream",
     "text": [
      "Digite uma letra do alfabeto: e\n",
      "A letra digitada é uma vogal:  e\n"
     ]
    }
   ],
   "source": [
    "letra = input(\"Digite uma letra do alfabeto: \")\n",
    "\n",
    "if letra ==\"a\" or letra ==\"e\" or letra ==\"i\" or letra ==\"o\"or letra ==\"u\":\n",
    "    print(\"A letra digitada é uma vogal: \", letra)\n",
    "    \n",
    "elif letra ==\"y\":\n",
    "    print(\"A letra digitada é o Y, podendo assumir o valor de uma vogal ou consoante, de acordo com o idioma\")\n",
    "    \n",
    "else:\n",
    "    print(\"A letra digitada é uma consoante: \", letra)"
   ]
  },
  {
   "cell_type": "code",
   "execution_count": null,
   "metadata": {},
   "outputs": [],
   "source": []
  }
 ],
 "metadata": {
  "kernelspec": {
   "display_name": "Python 3",
   "language": "python",
   "name": "python3"
  },
  "language_info": {
   "codemirror_mode": {
    "name": "ipython",
    "version": 3
   },
   "file_extension": ".py",
   "mimetype": "text/x-python",
   "name": "python",
   "nbconvert_exporter": "python",
   "pygments_lexer": "ipython3",
   "version": "3.6.5"
  }
 },
 "nbformat": 4,
 "nbformat_minor": 2
}
