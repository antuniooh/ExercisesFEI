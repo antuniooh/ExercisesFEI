{
 "cells": [
  {
   "cell_type": "code",
   "execution_count": 31,
   "metadata": {},
   "outputs": [
    {
     "name": "stdout",
     "output_type": "stream",
     "text": [
      " 2 =   20: 0.2%\n",
      " 3 =   59: 0.59%\n",
      " 4 =   85: 0.85%\n",
      " 5 =  108: 1.08%\n",
      " 6 =  111: 1.11%\n",
      " 7 =  166: 1.66%\n",
      " 8 =  165: 1.65%\n",
      " 9 =  109: 1.09%\n",
      "10 =   89: 0.89%\n",
      "11 =   58: 0.58%\n",
      "12 =   30: 0.3%\n"
     ]
    }
   ],
   "source": [
    "from random import randint\n",
    "\n",
    "#dicionario vezes\n",
    "valores = {\n",
    "        2: 0,\n",
    "        3: 0,\n",
    "        4: 0,\n",
    "        5: 0,\n",
    "        6: 0,\n",
    "        7: 0,\n",
    "        8: 0,\n",
    "        9: 0,\n",
    "        10: 0,\n",
    "        11: 0,\n",
    "        12: 0\n",
    "        }\n",
    "    \n",
    "#função lançamento de dados\n",
    "def dados():\n",
    "    x  = randint(1, 6)\n",
    "    y  = randint (1,6)  \n",
    "    valores[x+y] +=1\n",
    "            \n",
    "def imprimir(): \n",
    "    for chave, valor in valores.items():\n",
    "        print(\"%2s = %4s: %2s%%\"% (chave, valor, ((valor*100)/10000)))\n",
    "\n",
    "\n",
    "#função principal\n",
    "def main():\n",
    "    for a in range (1, 1001):\n",
    "        dados()\n",
    "    \n",
    "    imprimir()\n",
    "    \n",
    "\n",
    "main()"
   ]
  },
  {
   "cell_type": "code",
   "execution_count": null,
   "metadata": {},
   "outputs": [],
   "source": []
  }
 ],
 "metadata": {
  "kernelspec": {
   "display_name": "Python 3",
   "language": "python",
   "name": "python3"
  },
  "language_info": {
   "codemirror_mode": {
    "name": "ipython",
    "version": 3
   },
   "file_extension": ".py",
   "mimetype": "text/x-python",
   "name": "python",
   "nbconvert_exporter": "python",
   "pygments_lexer": "ipython3",
   "version": "3.6.7"
  }
 },
 "nbformat": 4,
 "nbformat_minor": 2
}
