{
 "cells": [
  {
   "cell_type": "code",
   "execution_count": 10,
   "metadata": {},
   "outputs": [
    {
     "name": "stdout",
     "output_type": "stream",
     "text": [
      "Digite a primeira palavra: ana\n",
      "Digite a segunda palavra: as\n"
     ]
    }
   ],
   "source": [
    "#inserir as strings\n",
    "texto1 = input(\"Digite a primeira palavra: \")\n",
    "texto2 = input(\"Digite a segunda palavra: \")\n",
    "\n",
    "#coloca-las em minusculos\n",
    "texto1 = texto1.lower()\n",
    "texto2 = texto2.lower()\n",
    "\n",
    "dic1 = {  }\n",
    "\n",
    "for x in range(len(texto1)):\n",
    "    for chave, valor in dic1.items():\n",
    "        if chave == texto1[x]:\n",
    "            valor +=1\n",
    "        else:\n",
    "            dic1[texto1[x]] = 1\n",
    "    \n",
    "for chave, valor in dic1.items():\n",
    "    print(chave, valor)\n"
   ]
  },
  {
   "cell_type": "code",
   "execution_count": null,
   "metadata": {},
   "outputs": [],
   "source": []
  }
 ],
 "metadata": {
  "kernelspec": {
   "display_name": "Python 3",
   "language": "python",
   "name": "python3"
  },
  "language_info": {
   "codemirror_mode": {
    "name": "ipython",
    "version": 3
   },
   "file_extension": ".py",
   "mimetype": "text/x-python",
   "name": "python",
   "nbconvert_exporter": "python",
   "pygments_lexer": "ipython3",
   "version": "3.6.7"
  }
 },
 "nbformat": 4,
 "nbformat_minor": 2
}
