{
 "cells": [
  {
   "cell_type": "code",
   "execution_count": 2,
   "metadata": {},
   "outputs": [
    {
     "name": "stdout",
     "output_type": "stream",
     "text": [
      "[1, 3, 8]\n"
     ]
    }
   ],
   "source": [
    " #função reversa\n",
    "def procuraReversa(dicionario, v):\n",
    "    keys = []      \n",
    "    for chave, valor in dicionario.items():\n",
    "        if valor == v:\n",
    "            keys.append(chave)\n",
    "    return keys\n",
    "\n",
    "#função princiapl\n",
    "def main ():\n",
    "    \n",
    "    d = {\n",
    "        1: \"a\",\n",
    "        2: \"n\",\n",
    "        3: \"a\",\n",
    "        4: \"j\",\n",
    "        5: \"u\",\n",
    "        6: \"l\",\n",
    "        7: \"i\",\n",
    "        8: \"a\"\n",
    "        }\n",
    "    print(procuraReversa(d, \"a\"))\n",
    "  \n",
    "\n",
    "main()"
   ]
  },
  {
   "cell_type": "code",
   "execution_count": null,
   "metadata": {},
   "outputs": [],
   "source": []
  }
 ],
 "metadata": {
  "kernelspec": {
   "display_name": "Python 3",
   "language": "python",
   "name": "python3"
  },
  "language_info": {
   "codemirror_mode": {
    "name": "ipython",
    "version": 3
   },
   "file_extension": ".py",
   "mimetype": "text/x-python",
   "name": "python",
   "nbconvert_exporter": "python",
   "pygments_lexer": "ipython3",
   "version": "3.6.7"
  }
 },
 "nbformat": 4,
 "nbformat_minor": 2
}
