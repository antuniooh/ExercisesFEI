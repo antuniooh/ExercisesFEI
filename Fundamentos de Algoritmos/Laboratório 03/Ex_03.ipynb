{
 "cells": [
  {
   "cell_type": "code",
   "execution_count": 10,
   "metadata": {},
   "outputs": [
    {
     "name": "stdout",
     "output_type": "stream",
     "text": [
      "Digite o valor de A: 1\n",
      "Digite o valor de B: 4\n",
      "Digite o valor de C: 3\n",
      "A equação possui duas raízes:  -3.0   -1.0\n"
     ]
    }
   ],
   "source": [
    "from math import sqrt\n",
    "\n",
    "a = float(input(\"Digite o valor de A: \"))\n",
    "\n",
    "if a == 0:\n",
    "    exit()\n",
    "    \n",
    "else:\n",
    "    b= float(input(\"Digite o valor de B: \"))\n",
    "    c = float(input(\"Digite o valor de C: \"))\n",
    "    \n",
    "    delta = (b ** 2) - 4 * a * c\n",
    "    \n",
    "    if delta < 0:\n",
    "        print(\"A equação não possui raizes reais\")\n",
    "        exit()\n",
    "    elif delta ==0:\n",
    "        raiz= (-b)/2 * a\n",
    "        print(\"A equação possui apenas uma raiz real: \", raiz)\n",
    "        \n",
    "    else:\n",
    "        raiz1= (-b  + (sqrt(delta) * -1))/2 * a\n",
    "        raiz2= (-b  + (sqrt(delta) * 1))/2 * a\n",
    "        print(\"A equação possui duas raízes: \", raiz1, \" \", raiz2 )\n",
    "        "
   ]
  },
  {
   "cell_type": "code",
   "execution_count": null,
   "metadata": {},
   "outputs": [],
   "source": []
  }
 ],
 "metadata": {
  "kernelspec": {
   "display_name": "Python 3",
   "language": "python",
   "name": "python3"
  },
  "language_info": {
   "codemirror_mode": {
    "name": "ipython",
    "version": 3
   },
   "file_extension": ".py",
   "mimetype": "text/x-python",
   "name": "python",
   "nbconvert_exporter": "python",
   "pygments_lexer": "ipython3",
   "version": "3.6.5"
  }
 },
 "nbformat": 4,
 "nbformat_minor": 2
}
