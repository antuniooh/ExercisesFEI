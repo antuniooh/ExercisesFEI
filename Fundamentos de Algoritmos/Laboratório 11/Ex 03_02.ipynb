{
 "cells": [
  {
   "cell_type": "code",
   "execution_count": 4,
   "metadata": {},
   "outputs": [
    {
     "name": "stdout",
     "output_type": "stream",
     "text": [
      "Insira um texto qualquer: ana\n",
      "{'a': 0, 'n': 0}\n",
      "quantidade de letras  2\n"
     ]
    }
   ],
   "source": [
    "def main():\n",
    "    letras = {}\n",
    "    texto = input(\"Insira um texto qualquer: \")\n",
    "    \n",
    "    for x in texto:\n",
    "        letras[x] = 0\n",
    "    \n",
    "    print(letras)\n",
    "    print(\"quantidade de letras \", len(letras))\n",
    "\n",
    "main()"
   ]
  },
  {
   "cell_type": "code",
   "execution_count": null,
   "metadata": {},
   "outputs": [],
   "source": []
  }
 ],
 "metadata": {
  "kernelspec": {
   "display_name": "Python 3",
   "language": "python",
   "name": "python3"
  },
  "language_info": {
   "codemirror_mode": {
    "name": "ipython",
    "version": 3
   },
   "file_extension": ".py",
   "mimetype": "text/x-python",
   "name": "python",
   "nbconvert_exporter": "python",
   "pygments_lexer": "ipython3",
   "version": "3.6.7"
  }
 },
 "nbformat": 4,
 "nbformat_minor": 2
}
