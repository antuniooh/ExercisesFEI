{
 "cells": [
  {
   "cell_type": "code",
   "execution_count": 26,
   "metadata": {},
   "outputs": [
    {
     "name": "stdout",
     "output_type": "stream",
     "text": [
      "Digite o texto: Antonio Carlos Ana\n",
      "O Total de caracteres únicos é:  9\n"
     ]
    }
   ],
   "source": [
    "#cria a string e tira os espaços, poe tudo em minusculo\n",
    "texto = input(\"Digite o texto: \")\n",
    "texto = texto.lower()\n",
    "texto = texto.replace(\" \",\"\")\n",
    "\n",
    "#cria um dicionario com todas as letras do alfabeto\n",
    "dic = {\n",
    "    \"a\": 0,\n",
    "    \"b\": 0,\n",
    "    \"c\": 0,\n",
    "    \"d\":0,\n",
    "    \"e\":0,\n",
    "    \"f\":0,\n",
    "    \"g\":0,\n",
    "    \"h\":0,\n",
    "    \"i\":0,\n",
    "    \"j\":0,\n",
    "    \"k\":0,\n",
    "    \"l\":0,\n",
    "    \"m\":0,\n",
    "    \"n\":0,\n",
    "    \"o\":0,\n",
    "    \"p\":0,\n",
    "    \"q\":0,\n",
    "    \"r\":0,\n",
    "    \"s\":0,\n",
    "    \"t\":0,\n",
    "    \"u\":0,\n",
    "    \"v\":0,\n",
    "    \"w\":0,\n",
    "    \"x\":0,\n",
    "    \"y\":0,\n",
    "    \"z\":0\n",
    "}\n",
    "#função comparação\n",
    "for x in range(len(texto)):\n",
    "    for chave, valor in dic.items():\n",
    "        #caso a chave do dicionario seja igual a letra da string, soma 1\n",
    "        if chave == str(texto[x]):\n",
    "            dic[chave] +=1\n",
    "\n",
    "\n",
    "#função soma de caracteres\n",
    "total = 0\n",
    "for chave,valor in dic.items():\n",
    "    #caso o valor da chave seja maior que zero, soma 1\n",
    "    if dic[chave] > 0:\n",
    "        total += 1\n",
    "print(\"O Total de caracteres únicos é: \", total)"
   ]
  },
  {
   "cell_type": "code",
   "execution_count": null,
   "metadata": {},
   "outputs": [],
   "source": []
  }
 ],
 "metadata": {
  "kernelspec": {
   "display_name": "Python 3",
   "language": "python",
   "name": "python3"
  },
  "language_info": {
   "codemirror_mode": {
    "name": "ipython",
    "version": 3
   },
   "file_extension": ".py",
   "mimetype": "text/x-python",
   "name": "python",
   "nbconvert_exporter": "python",
   "pygments_lexer": "ipython3",
   "version": "3.6.7"
  }
 },
 "nbformat": 4,
 "nbformat_minor": 2
}
