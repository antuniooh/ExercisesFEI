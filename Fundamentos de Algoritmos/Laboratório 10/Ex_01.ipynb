{
 "cells": [
  {
   "cell_type": "code",
   "execution_count": 5,
   "metadata": {},
   "outputs": [
    {
     "name": "stdout",
     "output_type": "stream",
     "text": [
      "Digite o texto: a grama é amarga\n",
      "É Palíndromo\n"
     ]
    }
   ],
   "source": [
    "s = input(\"Digite o texto: \")\n",
    "\n",
    "s = s.lower() #tudo em minusculas\n",
    "s = s.replace(\" \",\"\") # tirar os espaços\n",
    "\n",
    "s_n = s[::-1] #string invertida\n",
    "\n",
    "#inverter com laço\n",
    "#for x in range(1, len(s) + 1):\n",
    "#    s_n += s[-x]\n",
    "    \n",
    "if s == s_n:\n",
    "    print(\"É Palíndromo\")\n",
    "else:\n",
    "    print(\"Não é Palíndromo \")"
   ]
  },
  {
   "cell_type": "code",
   "execution_count": null,
   "metadata": {},
   "outputs": [],
   "source": []
  }
 ],
 "metadata": {
  "kernelspec": {
   "display_name": "Python 3",
   "language": "python",
   "name": "python3"
  },
  "language_info": {
   "codemirror_mode": {
    "name": "ipython",
    "version": 3
   },
   "file_extension": ".py",
   "mimetype": "text/x-python",
   "name": "python",
   "nbconvert_exporter": "python",
   "pygments_lexer": "ipython3",
   "version": "3.6.7"
  }
 },
 "nbformat": 4,
 "nbformat_minor": 2
}
