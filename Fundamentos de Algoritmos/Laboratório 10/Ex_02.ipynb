{
 "cells": [
  {
   "cell_type": "code",
   "execution_count": 39,
   "metadata": {},
   "outputs": [
    {
     "name": "stdout",
     "output_type": "stream",
     "text": [
      "Maiores palavras: desenvolvimento\n",
      "Maiores palavras: desenvolvimento\n",
      "Maiores palavras: características\n",
      "Maior tamanho de String:  15  Número de vezes que se repete:  3\n"
     ]
    }
   ],
   "source": [
    "arquivo = open(\"Python.txt\", \"r\", encoding = \"utf-8\")\n",
    "\n",
    "lista = \"\"\n",
    "\n",
    "#colocar na string lista as seis linhas\n",
    "for x in range(1,7):\n",
    "    lista += arquivo.readline()\n",
    "    lista = lista.strip(\"\\n\") # tira a quebra de linha\n",
    "    lista = lista.replace(\",\",\" \")#tira os sinais orotgraficos\n",
    "    lista = lista.replace(\".\",\" \")\n",
    "    lista = lista.lower()#coloca tudo como minusculos\n",
    "    \n",
    "lista = lista.split(\" \")# quebra em diversos itens\n",
    "    \n",
    "arquivo.close()    \n",
    "    \n",
    "tamanho = 0\n",
    "i = 0\n",
    "\n",
    "#qual o maior tamanho\n",
    "for x in range(len(lista)):\n",
    "    if len(lista[x]) > tamanho:\n",
    "        tamanho = len(lista[x])\n",
    "        \n",
    "#quantas vezes ele aparece e em quais palavras\n",
    "for x in range(len(lista)):\n",
    "    if len(lista[x]) == tamanho:\n",
    "        i += 1\n",
    "        print(\"Maiores palavras:\", lista[x])\n",
    "        \n",
    "print(\"Maior tamanho de String: \", tamanho,\" Número de vezes que se repete: \", i)\n"
   ]
  },
  {
   "cell_type": "code",
   "execution_count": null,
   "metadata": {},
   "outputs": [],
   "source": []
  }
 ],
 "metadata": {
  "kernelspec": {
   "display_name": "Python 3",
   "language": "python",
   "name": "python3"
  },
  "language_info": {
   "codemirror_mode": {
    "name": "ipython",
    "version": 3
   },
   "file_extension": ".py",
   "mimetype": "text/x-python",
   "name": "python",
   "nbconvert_exporter": "python",
   "pygments_lexer": "ipython3",
   "version": "3.6.7"
  }
 },
 "nbformat": 4,
 "nbformat_minor": 2
}
