{
 "cells": [
  {
   "cell_type": "code",
   "execution_count": 35,
   "metadata": {},
   "outputs": [
    {
     "name": "stdout",
     "output_type": "stream",
     "text": [
      "Digite a frase: computer\n",
      "['computer']\n",
      "Palavra em Pig Latin: ay\n",
      "Palavra em Pig Latin:way\n"
     ]
    }
   ],
   "source": [
    "s = input(\"Digite a frase: \")\n",
    "s = s.lower()\n",
    "s = s.replace(\",\",\" \")\n",
    "s = s.replace(\".\",\" \")\n",
    "s = s.replace(\"!\",\" \")\n",
    "s = s.split(\" \")\n",
    "print(s)\n",
    "\n",
    "p1 = \"\"\n",
    "p2 =\"\"\n",
    "\n",
    "#no caso da inicial ser consoante\n",
    "for x in range(len(s)):\n",
    "    if s[x][0] !=\"a\" and s[x][0]!=\"e\" and s[x][0] !=\"i\" and s[x][0] !=\"o\" and s[x][0] !=\"u\":\n",
    "        for y in range(len(s)):\n",
    "            if s[x][y] ==\"a\" or s[x][y] ==\"e\" or s[x][y] ==\"i\" or s[x][y] ==\"o\" or s[x][y] ==\"u\":\n",
    "                print(s[x][0:y])\n",
    "                print(s[x][y:])\n",
    "                break\n",
    "    print(\"Palavra em Pig Latin:\", p2 + p1 + \"ay\")\n",
    "else:\n",
    "    print(\"Palavra em Pig Latin:way\")\n",
    "\n"
   ]
  },
  {
   "cell_type": "code",
   "execution_count": null,
   "metadata": {},
   "outputs": [],
   "source": []
  }
 ],
 "metadata": {
  "kernelspec": {
   "display_name": "Python 3",
   "language": "python",
   "name": "python3"
  },
  "language_info": {
   "codemirror_mode": {
    "name": "ipython",
    "version": 3
   },
   "file_extension": ".py",
   "mimetype": "text/x-python",
   "name": "python",
   "nbconvert_exporter": "python",
   "pygments_lexer": "ipython3",
   "version": "3.6.7"
  }
 },
 "nbformat": 4,
 "nbformat_minor": 2
}
