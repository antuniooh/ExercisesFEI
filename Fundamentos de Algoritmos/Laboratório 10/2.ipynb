{
 "cells": [
  {
   "cell_type": "code",
   "execution_count": null,
   "metadata": {},
   "outputs": [],
   "source": [
    "novo= open(\"Python.txt\",\"r\")\n",
    "lista=[]\n",
    "tam=[]\n",
    "maiores = []\n",
    "\n",
    "for linha in novo.readlines():\n",
    "  separado=linha.replace(\".\",\"\").replace(\",\",\"\").strip().split()\n",
    "  lista.append(separado)\n",
    "novo.close()\n",
    "\n",
    "for a in range(len(lista)):\n",
    "  for b in range(len(lista[a])):\n",
    "    tamanho=len(lista[a][b])\n",
    "    tam.append(tamanho)\n",
    "print(max(tam)) \n",
    "\n",
    "for a in range(len(lista)):\n",
    "  for b in range(len(lista[a])):  \n",
    "    if len(lista[a][b]) == max(tam):\n",
    "      if lista[a][b] not in maiores:\n",
    "        maiores.append(lista[a][b])\n",
    "\n",
    "print(maiores) "
   ]
  }
 ],
 "metadata": {
  "kernelspec": {
   "display_name": "Python 3",
   "language": "python",
   "name": "python3"
  },
  "language_info": {
   "codemirror_mode": {
    "name": "ipython",
    "version": 3
   },
   "file_extension": ".py",
   "mimetype": "text/x-python",
   "name": "python",
   "nbconvert_exporter": "python",
   "pygments_lexer": "ipython3",
   "version": "3.6.7"
  }
 },
 "nbformat": 4,
 "nbformat_minor": 2
}
